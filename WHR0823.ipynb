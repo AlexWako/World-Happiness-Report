{
 "cells": [
  {
   "cell_type": "markdown",
   "id": "12d827a6-bc10-4b15-a8ab-41f9133aebe2",
   "metadata": {},
   "source": [
    "# Final Project: World Happiness Report 2008-2023"
   ]
  },
  {
   "cell_type": "markdown",
   "id": "cc617a8a-0948-469e-8a74-db971526e6b9",
   "metadata": {},
   "source": [
    "Name: Alex Wako (5267489)"
   ]
  },
  {
   "cell_type": "code",
   "execution_count": 288,
   "id": "3a767ed4-76c9-4686-ae50-a7448e1edfbc",
   "metadata": {},
   "outputs": [
    {
     "data": {
      "text/plain": [
       "RendererRegistry.enable('mimetype')"
      ]
     },
     "execution_count": 288,
     "metadata": {},
     "output_type": "execute_result"
    }
   ],
   "source": [
    "import numpy as np\n",
    "import pandas as pd\n",
    "import altair as alt\n",
    "from statsmodels.multivariate.pca import PCA\n",
    "import statsmodels.api as sm\n",
    "\n",
    "whr = pd.read_csv('data/whr-2023.csv')\n",
    "\n",
    "alt.renderers.enable('mimetype')"
   ]
  },
  {
   "cell_type": "code",
   "execution_count": 289,
   "id": "5102b3ee-b391-4c4d-8596-5b60352ceed9",
   "metadata": {},
   "outputs": [
    {
     "data": {
      "text/html": [
       "<div>\n",
       "<style scoped>\n",
       "    .dataframe tbody tr th:only-of-type {\n",
       "        vertical-align: middle;\n",
       "    }\n",
       "\n",
       "    .dataframe tbody tr th {\n",
       "        vertical-align: top;\n",
       "    }\n",
       "\n",
       "    .dataframe thead th {\n",
       "        text-align: right;\n",
       "    }\n",
       "</style>\n",
       "<table border=\"1\" class=\"dataframe\">\n",
       "  <thead>\n",
       "    <tr style=\"text-align: right;\">\n",
       "      <th></th>\n",
       "      <th>Country name</th>\n",
       "      <th>year</th>\n",
       "      <th>Life Ladder</th>\n",
       "      <th>Log GDP per capita</th>\n",
       "      <th>Social support</th>\n",
       "      <th>Healthy life expectancy at birth</th>\n",
       "      <th>Freedom to make life choices</th>\n",
       "      <th>Generosity</th>\n",
       "      <th>Perceptions of corruption</th>\n",
       "      <th>Positive affect</th>\n",
       "      <th>Negative affect</th>\n",
       "    </tr>\n",
       "  </thead>\n",
       "  <tbody>\n",
       "    <tr>\n",
       "      <th>0</th>\n",
       "      <td>Afghanistan</td>\n",
       "      <td>2008</td>\n",
       "      <td>3.724</td>\n",
       "      <td>7.350</td>\n",
       "      <td>0.451</td>\n",
       "      <td>50.5</td>\n",
       "      <td>0.718</td>\n",
       "      <td>0.168</td>\n",
       "      <td>0.882</td>\n",
       "      <td>0.414</td>\n",
       "      <td>0.258</td>\n",
       "    </tr>\n",
       "    <tr>\n",
       "      <th>1</th>\n",
       "      <td>Afghanistan</td>\n",
       "      <td>2009</td>\n",
       "      <td>4.402</td>\n",
       "      <td>7.509</td>\n",
       "      <td>0.552</td>\n",
       "      <td>50.8</td>\n",
       "      <td>0.679</td>\n",
       "      <td>0.191</td>\n",
       "      <td>0.850</td>\n",
       "      <td>0.481</td>\n",
       "      <td>0.237</td>\n",
       "    </tr>\n",
       "    <tr>\n",
       "      <th>2</th>\n",
       "      <td>Afghanistan</td>\n",
       "      <td>2010</td>\n",
       "      <td>4.758</td>\n",
       "      <td>7.614</td>\n",
       "      <td>0.539</td>\n",
       "      <td>51.1</td>\n",
       "      <td>0.600</td>\n",
       "      <td>0.121</td>\n",
       "      <td>0.707</td>\n",
       "      <td>0.517</td>\n",
       "      <td>0.275</td>\n",
       "    </tr>\n",
       "    <tr>\n",
       "      <th>3</th>\n",
       "      <td>Afghanistan</td>\n",
       "      <td>2011</td>\n",
       "      <td>3.832</td>\n",
       "      <td>7.581</td>\n",
       "      <td>0.521</td>\n",
       "      <td>51.4</td>\n",
       "      <td>0.496</td>\n",
       "      <td>0.164</td>\n",
       "      <td>0.731</td>\n",
       "      <td>0.480</td>\n",
       "      <td>0.267</td>\n",
       "    </tr>\n",
       "    <tr>\n",
       "      <th>4</th>\n",
       "      <td>Afghanistan</td>\n",
       "      <td>2012</td>\n",
       "      <td>3.783</td>\n",
       "      <td>7.661</td>\n",
       "      <td>0.521</td>\n",
       "      <td>51.7</td>\n",
       "      <td>0.531</td>\n",
       "      <td>0.238</td>\n",
       "      <td>0.776</td>\n",
       "      <td>0.614</td>\n",
       "      <td>0.268</td>\n",
       "    </tr>\n",
       "  </tbody>\n",
       "</table>\n",
       "</div>"
      ],
      "text/plain": [
       "  Country name  year  Life Ladder  Log GDP per capita  Social support  \\\n",
       "0  Afghanistan  2008        3.724               7.350           0.451   \n",
       "1  Afghanistan  2009        4.402               7.509           0.552   \n",
       "2  Afghanistan  2010        4.758               7.614           0.539   \n",
       "3  Afghanistan  2011        3.832               7.581           0.521   \n",
       "4  Afghanistan  2012        3.783               7.661           0.521   \n",
       "\n",
       "   Healthy life expectancy at birth  Freedom to make life choices  Generosity  \\\n",
       "0                              50.5                         0.718       0.168   \n",
       "1                              50.8                         0.679       0.191   \n",
       "2                              51.1                         0.600       0.121   \n",
       "3                              51.4                         0.496       0.164   \n",
       "4                              51.7                         0.531       0.238   \n",
       "\n",
       "   Perceptions of corruption  Positive affect  Negative affect  \n",
       "0                      0.882            0.414            0.258  \n",
       "1                      0.850            0.481            0.237  \n",
       "2                      0.707            0.517            0.275  \n",
       "3                      0.731            0.480            0.267  \n",
       "4                      0.776            0.614            0.268  "
      ]
     },
     "execution_count": 289,
     "metadata": {},
     "output_type": "execute_result"
    }
   ],
   "source": [
    "whr.head()"
   ]
  },
  {
   "cell_type": "code",
   "execution_count": 290,
   "id": "0447c6ac-6ee9-47fa-8c17-a975258df1bc",
   "metadata": {},
   "outputs": [
    {
     "data": {
      "text/html": [
       "<div>\n",
       "<style scoped>\n",
       "    .dataframe tbody tr th:only-of-type {\n",
       "        vertical-align: middle;\n",
       "    }\n",
       "\n",
       "    .dataframe tbody tr th {\n",
       "        vertical-align: top;\n",
       "    }\n",
       "\n",
       "    .dataframe thead th {\n",
       "        text-align: right;\n",
       "    }\n",
       "</style>\n",
       "<table border=\"1\" class=\"dataframe\">\n",
       "  <thead>\n",
       "    <tr style=\"text-align: right;\">\n",
       "      <th></th>\n",
       "      <th>Country</th>\n",
       "      <th>year</th>\n",
       "      <th>Life Ladder</th>\n",
       "      <th>Log GDP per capita</th>\n",
       "      <th>Social support</th>\n",
       "      <th>HLE at birth</th>\n",
       "      <th>Freedom of choice</th>\n",
       "      <th>Generosity</th>\n",
       "      <th>Perceptions of corruption</th>\n",
       "      <th>Positive affect</th>\n",
       "      <th>Negative affect</th>\n",
       "    </tr>\n",
       "  </thead>\n",
       "  <tbody>\n",
       "    <tr>\n",
       "      <th>0</th>\n",
       "      <td>Afghanistan</td>\n",
       "      <td>2008</td>\n",
       "      <td>3.724</td>\n",
       "      <td>7.350</td>\n",
       "      <td>0.451</td>\n",
       "      <td>50.5</td>\n",
       "      <td>0.718</td>\n",
       "      <td>0.168</td>\n",
       "      <td>0.882</td>\n",
       "      <td>0.414</td>\n",
       "      <td>0.258</td>\n",
       "    </tr>\n",
       "    <tr>\n",
       "      <th>1</th>\n",
       "      <td>Afghanistan</td>\n",
       "      <td>2009</td>\n",
       "      <td>4.402</td>\n",
       "      <td>7.509</td>\n",
       "      <td>0.552</td>\n",
       "      <td>50.8</td>\n",
       "      <td>0.679</td>\n",
       "      <td>0.191</td>\n",
       "      <td>0.850</td>\n",
       "      <td>0.481</td>\n",
       "      <td>0.237</td>\n",
       "    </tr>\n",
       "    <tr>\n",
       "      <th>2</th>\n",
       "      <td>Afghanistan</td>\n",
       "      <td>2010</td>\n",
       "      <td>4.758</td>\n",
       "      <td>7.614</td>\n",
       "      <td>0.539</td>\n",
       "      <td>51.1</td>\n",
       "      <td>0.600</td>\n",
       "      <td>0.121</td>\n",
       "      <td>0.707</td>\n",
       "      <td>0.517</td>\n",
       "      <td>0.275</td>\n",
       "    </tr>\n",
       "    <tr>\n",
       "      <th>3</th>\n",
       "      <td>Afghanistan</td>\n",
       "      <td>2011</td>\n",
       "      <td>3.832</td>\n",
       "      <td>7.581</td>\n",
       "      <td>0.521</td>\n",
       "      <td>51.4</td>\n",
       "      <td>0.496</td>\n",
       "      <td>0.164</td>\n",
       "      <td>0.731</td>\n",
       "      <td>0.480</td>\n",
       "      <td>0.267</td>\n",
       "    </tr>\n",
       "    <tr>\n",
       "      <th>4</th>\n",
       "      <td>Afghanistan</td>\n",
       "      <td>2012</td>\n",
       "      <td>3.783</td>\n",
       "      <td>7.661</td>\n",
       "      <td>0.521</td>\n",
       "      <td>51.7</td>\n",
       "      <td>0.531</td>\n",
       "      <td>0.238</td>\n",
       "      <td>0.776</td>\n",
       "      <td>0.614</td>\n",
       "      <td>0.268</td>\n",
       "    </tr>\n",
       "  </tbody>\n",
       "</table>\n",
       "</div>"
      ],
      "text/plain": [
       "       Country  year  Life Ladder  Log GDP per capita  Social support  \\\n",
       "0  Afghanistan  2008        3.724               7.350           0.451   \n",
       "1  Afghanistan  2009        4.402               7.509           0.552   \n",
       "2  Afghanistan  2010        4.758               7.614           0.539   \n",
       "3  Afghanistan  2011        3.832               7.581           0.521   \n",
       "4  Afghanistan  2012        3.783               7.661           0.521   \n",
       "\n",
       "   HLE at birth  Freedom of choice  Generosity  Perceptions of corruption  \\\n",
       "0          50.5              0.718       0.168                      0.882   \n",
       "1          50.8              0.679       0.191                      0.850   \n",
       "2          51.1              0.600       0.121                      0.707   \n",
       "3          51.4              0.496       0.164                      0.731   \n",
       "4          51.7              0.531       0.238                      0.776   \n",
       "\n",
       "   Positive affect  Negative affect  \n",
       "0            0.414            0.258  \n",
       "1            0.481            0.237  \n",
       "2            0.517            0.275  \n",
       "3            0.480            0.267  \n",
       "4            0.614            0.268  "
      ]
     },
     "execution_count": 290,
     "metadata": {},
     "output_type": "execute_result"
    }
   ],
   "source": [
    "# Rename columns for readability\n",
    "columns = {\n",
    "    'Country name': 'Country',\n",
    "    'Healthy life expectancy at birth': 'HLE at birth',\n",
    "    'Freedom to make life choices': 'Freedom of choice',\n",
    "}\n",
    "whr.rename(columns = columns, inplace = True)\n",
    "whr.head()"
   ]
  },
  {
   "cell_type": "code",
   "execution_count": 291,
   "id": "dc466326-792f-462d-9abe-76c48ab6ea52",
   "metadata": {},
   "outputs": [
    {
     "data": {
      "text/plain": [
       "2199"
      ]
     },
     "execution_count": 291,
     "metadata": {},
     "output_type": "execute_result"
    }
   ],
   "source": [
    "# Check for the number of rows\n",
    "whr.shape[0]"
   ]
  },
  {
   "cell_type": "code",
   "execution_count": 292,
   "id": "3d089621-e116-4f45-9a6d-82c456f7de55",
   "metadata": {},
   "outputs": [
    {
     "data": {
      "text/plain": [
       "1958"
      ]
     },
     "execution_count": 292,
     "metadata": {},
     "output_type": "execute_result"
    }
   ],
   "source": [
    "# Remove NA value\n",
    "whr.dropna(inplace = True)\n",
    "whr.shape[0]"
   ]
  },
  {
   "cell_type": "markdown",
   "id": "de027a0f-526d-47aa-a02c-8911c9dc1ded",
   "metadata": {},
   "source": [
    "Although rows with NA values are dropped, there is sufficienty observations for the data to answer the questions. Some countries will have some years of data missing, but the year of when the data was taken is not necessary for the project"
   ]
  },
  {
   "cell_type": "markdown",
   "id": "96d8119d-95ff-4d40-9d9a-295604450b62",
   "metadata": {},
   "source": [
    "## The Data\n",
    "\n",
    "The data is the index and scores of the World Happiness Report from 2008-2023. The data is found from World Happiness Report website and sourced by information found in the Gallup World Poll. Each index is based on reports made in the poll from country residents and explained by six index marked by the variable descriptions in the table below. The population of interest are the people surveyed from the Gallup World Poll. Inferences about the population can likely not be made because the polls are made from random residents of respective countries.\n",
    "\n",
    "Name | Variable description | Type | Units of measurement\n",
    "---|---|---|---\n",
    "Country | Country Name | String | None \n",
    "year | Year that the data was taken | Numeric | Years \n",
    "Life Ladder | Happiness Score (1-10) determined by GWP Index Measurements | Numeric | None\n",
    "Log GDP per Capita | Log Gross Domestic Product per Capita | Numeric | USD\n",
    "Social Support (GWP Index) | National Average of Social Support questions answered based on Binary Response | Numeric | None\n",
    "HLE at birth | Life expectancy at birth based on World Health Organization | Numeric | Years\n",
    "Freedom of choice (GWP Index) | National Average of Freedom to make life choices questions answered based on Binary Response | Numeric | None\n",
    "Generosity (GWP Index) | National Average of Generosity questions answered based on Binary Response | Numeric | None\n",
    "Perceptions of corruption (GWP Index) | National Average of Perceptions of Corruption questions answered based on Binary Response | Numeric | None\n",
    "Positive affect (GWP Index) | National Average of Positive affect questions answered based on Binary Response | Numeric | None\n",
    "Negative affect (GWP Index) | National Average of Negative affect questions answered based on Binary Response | Numeric | None"
   ]
  },
  {
   "cell_type": "markdown",
   "id": "1af5fd4f-4416-4261-8956-2caa585126fd",
   "metadata": {},
   "source": [
    "## Question\n",
    "\n",
    "The question I want to answer with this dataset is: **Is there evidence that a newborn can lead to a healthy long life given the happiness of the country?**\n",
    "\n",
    "The World Happiness Report have been using the GWP index poll as a method to determine the happiness and satisfaction of the people of a country. These binary responses are a result of random people answering questions, but I want to understand how this can relate to a healthy life expectancy of a person at birth. The HLE at birth variable is data that is tracked through real world situations, but the polls are just how they feel about a country. This can change all the time, and although the polls are random, different factors such as politics and religious beliefs can unknowinglly add bias to the data. The healthy life expectancy is a result of infrastrucutre and culture of the country, so a strong relationship with the polls should not exist as the flexible poll data is being compared to a inflexible life expectancy data.\n",
    "\n",
    "I would expect the results to show very little relationship and variance explained from the data. People's feelings and thoughts of a country can change all the time through events such as elections and wars, so happiness is too subjective to the current climate of the country and not the past information that could affect the healthy life expectancy at birth.\n",
    "\n",
    "The model will not be using the life ladder variable because although it combines all six factors, it won't give any information on what variables affect the healthy life expectancy of each country."
   ]
  },
  {
   "cell_type": "markdown",
   "id": "208c4b26-2dd8-452f-bd7b-a24d16114223",
   "metadata": {},
   "source": [
    "## Process"
   ]
  },
  {
   "cell_type": "code",
   "execution_count": 293,
   "id": "1a0aa40b-14bc-456d-b531-0535ddba7672",
   "metadata": {},
   "outputs": [
    {
     "data": {
      "text/html": [
       "<div>\n",
       "<style scoped>\n",
       "    .dataframe tbody tr th:only-of-type {\n",
       "        vertical-align: middle;\n",
       "    }\n",
       "\n",
       "    .dataframe tbody tr th {\n",
       "        vertical-align: top;\n",
       "    }\n",
       "\n",
       "    .dataframe thead th {\n",
       "        text-align: right;\n",
       "    }\n",
       "</style>\n",
       "<table border=\"1\" class=\"dataframe\">\n",
       "  <thead>\n",
       "    <tr style=\"text-align: right;\">\n",
       "      <th></th>\n",
       "      <th>Country</th>\n",
       "      <th>year</th>\n",
       "      <th>Log GDP per capita</th>\n",
       "      <th>Social support</th>\n",
       "      <th>HLE at birth</th>\n",
       "      <th>Freedom of choice</th>\n",
       "      <th>Generosity</th>\n",
       "      <th>Perceptions of corruption</th>\n",
       "      <th>Positive affect</th>\n",
       "      <th>Negative affect</th>\n",
       "    </tr>\n",
       "  </thead>\n",
       "  <tbody>\n",
       "    <tr>\n",
       "      <th>0</th>\n",
       "      <td>Afghanistan</td>\n",
       "      <td>2008</td>\n",
       "      <td>7.350</td>\n",
       "      <td>0.451</td>\n",
       "      <td>50.5</td>\n",
       "      <td>0.718</td>\n",
       "      <td>0.168</td>\n",
       "      <td>0.882</td>\n",
       "      <td>0.414</td>\n",
       "      <td>0.258</td>\n",
       "    </tr>\n",
       "    <tr>\n",
       "      <th>1</th>\n",
       "      <td>Afghanistan</td>\n",
       "      <td>2009</td>\n",
       "      <td>7.509</td>\n",
       "      <td>0.552</td>\n",
       "      <td>50.8</td>\n",
       "      <td>0.679</td>\n",
       "      <td>0.191</td>\n",
       "      <td>0.850</td>\n",
       "      <td>0.481</td>\n",
       "      <td>0.237</td>\n",
       "    </tr>\n",
       "    <tr>\n",
       "      <th>2</th>\n",
       "      <td>Afghanistan</td>\n",
       "      <td>2010</td>\n",
       "      <td>7.614</td>\n",
       "      <td>0.539</td>\n",
       "      <td>51.1</td>\n",
       "      <td>0.600</td>\n",
       "      <td>0.121</td>\n",
       "      <td>0.707</td>\n",
       "      <td>0.517</td>\n",
       "      <td>0.275</td>\n",
       "    </tr>\n",
       "    <tr>\n",
       "      <th>3</th>\n",
       "      <td>Afghanistan</td>\n",
       "      <td>2011</td>\n",
       "      <td>7.581</td>\n",
       "      <td>0.521</td>\n",
       "      <td>51.4</td>\n",
       "      <td>0.496</td>\n",
       "      <td>0.164</td>\n",
       "      <td>0.731</td>\n",
       "      <td>0.480</td>\n",
       "      <td>0.267</td>\n",
       "    </tr>\n",
       "    <tr>\n",
       "      <th>4</th>\n",
       "      <td>Afghanistan</td>\n",
       "      <td>2012</td>\n",
       "      <td>7.661</td>\n",
       "      <td>0.521</td>\n",
       "      <td>51.7</td>\n",
       "      <td>0.531</td>\n",
       "      <td>0.238</td>\n",
       "      <td>0.776</td>\n",
       "      <td>0.614</td>\n",
       "      <td>0.268</td>\n",
       "    </tr>\n",
       "  </tbody>\n",
       "</table>\n",
       "</div>"
      ],
      "text/plain": [
       "       Country  year  Log GDP per capita  Social support  HLE at birth  \\\n",
       "0  Afghanistan  2008               7.350           0.451          50.5   \n",
       "1  Afghanistan  2009               7.509           0.552          50.8   \n",
       "2  Afghanistan  2010               7.614           0.539          51.1   \n",
       "3  Afghanistan  2011               7.581           0.521          51.4   \n",
       "4  Afghanistan  2012               7.661           0.521          51.7   \n",
       "\n",
       "   Freedom of choice  Generosity  Perceptions of corruption  Positive affect  \\\n",
       "0              0.718       0.168                      0.882            0.414   \n",
       "1              0.679       0.191                      0.850            0.481   \n",
       "2              0.600       0.121                      0.707            0.517   \n",
       "3              0.496       0.164                      0.731            0.480   \n",
       "4              0.531       0.238                      0.776            0.614   \n",
       "\n",
       "   Negative affect  \n",
       "0            0.258  \n",
       "1            0.237  \n",
       "2            0.275  \n",
       "3            0.267  \n",
       "4            0.268  "
      ]
     },
     "execution_count": 293,
     "metadata": {},
     "output_type": "execute_result"
    }
   ],
   "source": [
    "# Drop Life Ladder\n",
    "whr_main = whr.drop('Life Ladder', axis = 1)\n",
    "whr_main.head()"
   ]
  },
  {
   "cell_type": "markdown",
   "id": "8a863d18-865d-4c90-81ee-af1cb6f179a2",
   "metadata": {},
   "source": [
    "As mentioned in the description, the Life Ladder column is deterministic of all other GWP Indices, therefore, to remove bias in the model, the Life Ladder column will be dropped."
   ]
  },
  {
   "cell_type": "code",
   "execution_count": 294,
   "id": "fd5025d7-2a66-4fbf-a27e-8541e7a5c02a",
   "metadata": {},
   "outputs": [
    {
     "data": {
      "application/vnd.vegalite.v5+json": {
       "$schema": "https://vega.github.io/schema/vega-lite/v5.15.1.json",
       "config": {
        "view": {
         "continuousHeight": 300,
         "continuousWidth": 300
        }
       },
       "data": {
        "name": "data-d4f26bb2b19605ddd3793dff82c82910"
       },
       "datasets": {
        "data-d4f26bb2b19605ddd3793dff82c82910": [
         {
          "Correlation": 1,
          "col": "Log GDP per capita",
          "row": "Log GDP per capita"
         },
         {
          "Correlation": 0.6961946982121515,
          "col": "Log GDP per capita",
          "row": "Social support"
         },
         {
          "Correlation": 0.8311310564388248,
          "col": "Log GDP per capita",
          "row": "HLE at birth"
         },
         {
          "Correlation": 0.3545679774991105,
          "col": "Log GDP per capita",
          "row": "Freedom of choice"
         },
         {
          "Correlation": -0.022899513561470002,
          "col": "Log GDP per capita",
          "row": "Generosity"
         },
         {
          "Correlation": -0.34987962560537866,
          "col": "Log GDP per capita",
          "row": "Perceptions of corruption"
         },
         {
          "Correlation": 0.23047811687490807,
          "col": "Log GDP per capita",
          "row": "Positive affect"
         },
         {
          "Correlation": -0.25938818000326785,
          "col": "Log GDP per capita",
          "row": "Negative affect"
         },
         {
          "Correlation": 0.6961946982121515,
          "col": "Social support",
          "row": "Log GDP per capita"
         },
         {
          "Correlation": 1,
          "col": "Social support",
          "row": "Social support"
         },
         {
          "Correlation": 0.6013528051919648,
          "col": "Social support",
          "row": "HLE at birth"
         },
         {
          "Correlation": 0.4026411396838192,
          "col": "Social support",
          "row": "Freedom of choice"
         },
         {
          "Correlation": 0.05955776491359466,
          "col": "Social support",
          "row": "Generosity"
         },
         {
          "Correlation": -0.22482175876279809,
          "col": "Social support",
          "row": "Perceptions of corruption"
         },
         {
          "Correlation": 0.4357968380475918,
          "col": "Social support",
          "row": "Positive affect"
         },
         {
          "Correlation": -0.45146375902836844,
          "col": "Social support",
          "row": "Negative affect"
         },
         {
          "Correlation": 0.8311310564388248,
          "col": "HLE at birth",
          "row": "Log GDP per capita"
         },
         {
          "Correlation": 0.6013528051919648,
          "col": "HLE at birth",
          "row": "Social support"
         },
         {
          "Correlation": 1,
          "col": "HLE at birth",
          "row": "HLE at birth"
         },
         {
          "Correlation": 0.36618395255028297,
          "col": "HLE at birth",
          "row": "Freedom of choice"
         },
         {
          "Correlation": 0.008320539036161125,
          "col": "HLE at birth",
          "row": "Generosity"
         },
         {
          "Correlation": -0.3045153433484107,
          "col": "HLE at birth",
          "row": "Perceptions of corruption"
         },
         {
          "Correlation": 0.21959992762467348,
          "col": "HLE at birth",
          "row": "Positive affect"
         },
         {
          "Correlation": -0.13831977628748154,
          "col": "HLE at birth",
          "row": "Negative affect"
         },
         {
          "Correlation": 0.3545679774991105,
          "col": "Freedom of choice",
          "row": "Log GDP per capita"
         },
         {
          "Correlation": 0.4026411396838192,
          "col": "Freedom of choice",
          "row": "Social support"
         },
         {
          "Correlation": 0.36618395255028297,
          "col": "Freedom of choice",
          "row": "HLE at birth"
         },
         {
          "Correlation": 1,
          "col": "Freedom of choice",
          "row": "Freedom of choice"
         },
         {
          "Correlation": 0.3192862053820926,
          "col": "Freedom of choice",
          "row": "Generosity"
         },
         {
          "Correlation": -0.48078076625897676,
          "col": "Freedom of choice",
          "row": "Perceptions of corruption"
         },
         {
          "Correlation": 0.5872038815026394,
          "col": "Freedom of choice",
          "row": "Positive affect"
         },
         {
          "Correlation": -0.2715299402973944,
          "col": "Freedom of choice",
          "row": "Negative affect"
         },
         {
          "Correlation": -0.022899513561470002,
          "col": "Generosity",
          "row": "Log GDP per capita"
         },
         {
          "Correlation": 0.05955776491359466,
          "col": "Generosity",
          "row": "Social support"
         },
         {
          "Correlation": 0.008320539036161125,
          "col": "Generosity",
          "row": "HLE at birth"
         },
         {
          "Correlation": 0.3192862053820926,
          "col": "Generosity",
          "row": "Freedom of choice"
         },
         {
          "Correlation": 1,
          "col": "Generosity",
          "row": "Generosity"
         },
         {
          "Correlation": -0.28152384098529987,
          "col": "Generosity",
          "row": "Perceptions of corruption"
         },
         {
          "Correlation": 0.3197152935687574,
          "col": "Generosity",
          "row": "Positive affect"
         },
         {
          "Correlation": -0.0822498296257605,
          "col": "Generosity",
          "row": "Negative affect"
         },
         {
          "Correlation": -0.34987962560537866,
          "col": "Perceptions of corruption",
          "row": "Log GDP per capita"
         },
         {
          "Correlation": -0.22482175876279809,
          "col": "Perceptions of corruption",
          "row": "Social support"
         },
         {
          "Correlation": -0.3045153433484107,
          "col": "Perceptions of corruption",
          "row": "HLE at birth"
         },
         {
          "Correlation": -0.48078076625897676,
          "col": "Perceptions of corruption",
          "row": "Freedom of choice"
         },
         {
          "Correlation": -0.28152384098529987,
          "col": "Perceptions of corruption",
          "row": "Generosity"
         },
         {
          "Correlation": 1,
          "col": "Perceptions of corruption",
          "row": "Perceptions of corruption"
         },
         {
          "Correlation": -0.29213941878140226,
          "col": "Perceptions of corruption",
          "row": "Positive affect"
         },
         {
          "Correlation": 0.2766735373693121,
          "col": "Perceptions of corruption",
          "row": "Negative affect"
         },
         {
          "Correlation": 0.23047811687490807,
          "col": "Positive affect",
          "row": "Log GDP per capita"
         },
         {
          "Correlation": 0.4357968380475918,
          "col": "Positive affect",
          "row": "Social support"
         },
         {
          "Correlation": 0.21959992762467348,
          "col": "Positive affect",
          "row": "HLE at birth"
         },
         {
          "Correlation": 0.5872038815026394,
          "col": "Positive affect",
          "row": "Freedom of choice"
         },
         {
          "Correlation": 0.3197152935687574,
          "col": "Positive affect",
          "row": "Generosity"
         },
         {
          "Correlation": -0.29213941878140226,
          "col": "Positive affect",
          "row": "Perceptions of corruption"
         },
         {
          "Correlation": 1,
          "col": "Positive affect",
          "row": "Positive affect"
         },
         {
          "Correlation": -0.32847602054129826,
          "col": "Positive affect",
          "row": "Negative affect"
         },
         {
          "Correlation": -0.25938818000326785,
          "col": "Negative affect",
          "row": "Log GDP per capita"
         },
         {
          "Correlation": -0.45146375902836844,
          "col": "Negative affect",
          "row": "Social support"
         },
         {
          "Correlation": -0.13831977628748154,
          "col": "Negative affect",
          "row": "HLE at birth"
         },
         {
          "Correlation": -0.2715299402973944,
          "col": "Negative affect",
          "row": "Freedom of choice"
         },
         {
          "Correlation": -0.0822498296257605,
          "col": "Negative affect",
          "row": "Generosity"
         },
         {
          "Correlation": 0.2766735373693121,
          "col": "Negative affect",
          "row": "Perceptions of corruption"
         },
         {
          "Correlation": -0.32847602054129826,
          "col": "Negative affect",
          "row": "Positive affect"
         },
         {
          "Correlation": 1,
          "col": "Negative affect",
          "row": "Negative affect"
         }
        ]
       },
       "encoding": {
        "color": {
         "field": "Correlation",
         "legend": {
          "tickCount": 5
         },
         "scale": {
          "scheme": "redblue"
         },
         "type": "quantitative"
        },
        "x": {
         "field": "col",
         "title": "",
         "type": "nominal"
        },
        "y": {
         "field": "row",
         "title": "",
         "type": "nominal"
        }
       },
       "height": 300,
       "mark": {
        "type": "rect"
       },
       "width": 300
      },
      "image/png": "[encoded data removed]",
      "text/plain": [
       "<VegaLite 5 object>\n",
       "\n",
       "If you see this message, it means the renderer has not been properly enabled\n",
       "for the frontend that you are using. For more information, see\n",
       "https://altair-viz.github.io/user_guide/display_frontends.html#troubleshooting\n"
      ]
     },
     "execution_count": 294,
     "metadata": {},
     "output_type": "execute_result"
    }
   ],
   "source": [
    "# Create Correlation Matrix\n",
    "whr_main = whr_main.drop(columns = ['Country', 'year'], axis = 1)\n",
    "col_corr = whr_main.corr()\n",
    "col_corr = col_corr.reset_index().rename(\n",
    "    columns = {'index': 'row'}\n",
    ").melt(\n",
    "    id_vars = 'row', var_name = 'col', value_name = 'Correlation'\n",
    ")\n",
    "\n",
    "# Correlation Plot\n",
    "alt.Chart(col_corr).mark_rect().encode(\n",
    "    x = alt.X('col', title = ''), \n",
    "    y = alt.Y('row', title = ''),\n",
    "    color = alt.Color('Correlation', scale = alt.Scale(scheme = 'redblue'), legend = alt.Legend(tickCount = 5))\n",
    ").properties(width = 300, height = 300)"
   ]
  },
  {
   "cell_type": "markdown",
   "id": "1008b655-feb4-44d8-a2fe-64b4a04b74bd",
   "metadata": {},
   "source": [
    "All the variables are no too strongly correlated with eachother, but Log GDP per capita seems to have a strong correlation with the response, so the variable will be dropped from the model. Having a variable with too big of a correlation to the response may make it difficult to explain the effects of the other variables, so dropping it would help improve the effects of the other variables. In an actual situation, countries with a higher GDP per capita will likely have the infrastructure and development to support individuals for a long, fulfilling life, so it is not unexpected to see a strong correlation.\n",
    "\n",
    "Now all that is left in the data as variables are the GWP Index, but some questions may be similarly answered to others. The correlation plot can show some of what is expected from answers of different questions. For example, answers for perceptions of corruption negatively correlates with freedom of choice, possibly allowing the two variables to be reduced into one."
   ]
  },
  {
   "cell_type": "code",
   "execution_count": 295,
   "id": "f652c025-f764-4bcc-9213-6546034c93e9",
   "metadata": {},
   "outputs": [
    {
     "data": {
      "application/vnd.vegalite.v5+json": {
       "$schema": "https://vega.github.io/schema/vega-lite/v5.15.1.json",
       "config": {
        "view": {
         "continuousHeight": 300,
         "continuousWidth": 300
        }
       },
       "data": {
        "name": "data-0690a119f557f87e8da959f1dfa1819c"
       },
       "datasets": {
        "data-0690a119f557f87e8da959f1dfa1819c": [
         {
          "Component": 1,
          "Cumulative variance explained": 0.443743777551076,
          "Proportion of variance explained": 0.443743777551076
         },
         {
          "Component": 2,
          "Cumulative variance explained": 0.6262566578005003,
          "Proportion of variance explained": 0.18251288024942433
         },
         {
          "Component": 3,
          "Cumulative variance explained": 0.7500775256807444,
          "Proportion of variance explained": 0.12382086788024406
         },
         {
          "Component": 4,
          "Cumulative variance explained": 0.8612854116216507,
          "Proportion of variance explained": 0.11120788594090637
         },
         {
          "Component": 5,
          "Cumulative variance explained": 0.9410574871329914,
          "Proportion of variance explained": 0.0797720755113407
         },
         {
          "Component": 6,
          "Cumulative variance explained": 1,
          "Proportion of variance explained": 0.05894251286700865
         }
        ]
       },
       "layer": [
        {
         "layer": [
          {
           "encoding": {
            "x": {
             "field": "Component",
             "type": "quantitative"
            },
            "y": {
             "axis": {
              "titleColor": "Blue"
             },
             "field": "Proportion of variance explained",
             "type": "quantitative"
            }
           },
           "mark": {
            "stroke": "Blue",
            "type": "line"
           }
          },
          {
           "encoding": {
            "x": {
             "field": "Component",
             "type": "quantitative"
            },
            "y": {
             "axis": {
              "titleColor": "Blue"
             },
             "field": "Proportion of variance explained",
             "type": "quantitative"
            }
           },
           "mark": {
            "color": "Blue",
            "type": "point"
           }
          }
         ]
        },
        {
         "layer": [
          {
           "encoding": {
            "x": {
             "field": "Component",
             "type": "quantitative"
            },
            "y": {
             "axis": {
              "titleColor": "Red"
             },
             "field": "Cumulative variance explained",
             "type": "quantitative"
            }
           },
           "mark": {
            "stroke": "Red",
            "type": "line"
           }
          },
          {
           "encoding": {
            "x": {
             "field": "Component",
             "type": "quantitative"
            },
            "y": {
             "axis": {
              "titleColor": "Red"
             },
             "field": "Cumulative variance explained",
             "type": "quantitative"
            }
           },
           "mark": {
            "stroke": "Red",
            "type": "point"
           }
          }
         ]
        }
       ],
       "resolve": {
        "scale": {
         "y": "independent"
        }
       }
      },
      "image/png": "[encoded data removed]",
      "text/plain": [
       "<VegaLite 5 object>\n",
       "\n",
       "If you see this message, it means the renderer has not been properly enabled\n",
       "for the frontend that you are using. For more information, see\n",
       "https://altair-viz.github.io/user_guide/display_frontends.html#troubleshooting\n"
      ]
     },
     "execution_count": 295,
     "metadata": {},
     "output_type": "execute_result"
    }
   ],
   "source": [
    "variables = whr_main.drop(columns = ['Log GDP per capita', 'HLE at birth'], axis = 1)\n",
    "response = whr_main.loc[:, 'HLE at birth']\n",
    "\n",
    "# Normalize the data and compute PCA\n",
    "pca = PCA(variables, standardize = True) # Although all data is a result of the average of binary responses, some questions had multiple answers\n",
    "\n",
    "# Find the number of principal components\n",
    "var_ratios = pca.eigenvals/pca.eigenvals.sum()\n",
    "pca_var_explained = pd.DataFrame({'Component': np.arange(1, 7), 'Proportion of variance explained': var_ratios})\n",
    "pca_var_explained['Cumulative variance explained'] = var_ratios.cumsum()\n",
    "\n",
    "## The Plot\n",
    "base = alt.Chart(pca_var_explained).encode(x = 'Component')\n",
    "prop_var_base = base.encode(y = alt.Y('Proportion of variance explained', axis = alt.Axis(titleColor = 'Blue')))\n",
    "cum_var_base = base.encode(y = alt.Y('Cumulative variance explained', axis = alt.Axis(titleColor = 'Red')))\n",
    "prop_var = prop_var_base.mark_line(stroke = 'Blue') + prop_var_base.mark_point(color = 'Blue')\n",
    "cum_var = cum_var_base.mark_line(stroke = 'Red') + cum_var_base.mark_point(stroke = 'Red')\n",
    "var_explained_plot = alt.layer(prop_var, cum_var).resolve_scale(y = 'independent')\n",
    "\n",
    "var_explained_plot"
   ]
  },
  {
   "cell_type": "markdown",
   "id": "9569590c-6f87-468a-afcf-fbe7fa66de4c",
   "metadata": {},
   "source": [
    "There is a drop off in the proportion of variance explained after component 3, so a good chunk of the data can likely be explained with three variables."
   ]
  },
  {
   "cell_type": "code",
   "execution_count": 296,
   "id": "bb5e4830-e019-45c2-b321-4f484facbe08",
   "metadata": {},
   "outputs": [
    {
     "data": {
      "application/vnd.vegalite.v5+json": {
       "$schema": "https://vega.github.io/schema/vega-lite/v5.15.1.json",
       "config": {
        "view": {
         "continuousHeight": 300,
         "continuousWidth": 300
        }
       },
       "data": {
        "name": "data-b7d254409080b7add897ba20fe08edc3"
       },
       "datasets": {
        "data-b7d254409080b7add897ba20fe08edc3": [
         {
          "Loading": 0.40592581415672147,
          "Principal Component": "comp_0",
          "Variables": "Social support",
          "zero": 0
         },
         {
          "Loading": 0.4932644089681582,
          "Principal Component": "comp_0",
          "Variables": "Freedom of choice",
          "zero": 0
         },
         {
          "Loading": 0.2848132717650151,
          "Principal Component": "comp_0",
          "Variables": "Generosity",
          "zero": 0
         },
         {
          "Loading": -0.38993458667379494,
          "Principal Component": "comp_0",
          "Variables": "Perceptions of corruption",
          "zero": 0
         },
         {
          "Loading": 0.47581295248604505,
          "Principal Component": "comp_0",
          "Variables": "Positive affect",
          "zero": 0
         },
         {
          "Loading": -0.36379789558909514,
          "Principal Component": "comp_0",
          "Variables": "Negative affect",
          "zero": 0
         },
         {
          "Loading": -0.4940898323988718,
          "Principal Component": "comp_1",
          "Variables": "Social support",
          "zero": 0
         },
         {
          "Loading": 0.1617510600922254,
          "Principal Component": "comp_1",
          "Variables": "Freedom of choice",
          "zero": 0
         },
         {
          "Loading": 0.6539437331702702,
          "Principal Component": "comp_1",
          "Variables": "Generosity",
          "zero": 0
         },
         {
          "Loading": -0.2529711241008572,
          "Principal Component": "comp_1",
          "Variables": "Perceptions of corruption",
          "zero": 0
         },
         {
          "Loading": 0.027549133303870623,
          "Principal Component": "comp_1",
          "Variables": "Positive affect",
          "zero": 0
         },
         {
          "Loading": 0.4871509843485713,
          "Principal Component": "comp_1",
          "Variables": "Negative affect",
          "zero": 0
         },
         {
          "Loading": 0.20722466907181888,
          "Principal Component": "comp_2",
          "Variables": "Social support",
          "zero": 0
         },
         {
          "Loading": 0.06998973111711158,
          "Principal Component": "comp_2",
          "Variables": "Freedom of choice",
          "zero": 0
         },
         {
          "Loading": 0.2025981188838114,
          "Principal Component": "comp_2",
          "Variables": "Generosity",
          "zero": 0
         },
         {
          "Loading": 0.7716175475705802,
          "Principal Component": "comp_2",
          "Variables": "Perceptions of corruption",
          "zero": 0
         },
         {
          "Loading": 0.48223378869699746,
          "Principal Component": "comp_2",
          "Variables": "Positive affect",
          "zero": 0
         },
         {
          "Loading": 0.28839263099301643,
          "Principal Component": "comp_2",
          "Variables": "Negative affect",
          "zero": 0
         }
        ]
       },
       "facet": {
        "column": {
         "field": "Principal Component",
         "title": "",
         "type": "nominal"
        }
       },
       "spec": {
        "height": 240,
        "layer": [
         {
          "encoding": {
           "color": {
            "field": "Principal Component",
            "type": "nominal"
           },
           "x": {
            "field": "Loading",
            "type": "quantitative"
           },
           "y": {
            "field": "Variables",
            "title": "",
            "type": "nominal"
           }
          },
          "mark": {
           "point": true,
           "type": "line"
          }
         },
         {
          "encoding": {
           "x": {
            "field": "zero",
            "title": "Loading",
            "type": "quantitative"
           }
          },
          "mark": {
           "type": "rule"
          }
         }
        ],
        "width": 120
       }
      },
      "image/png": "[encoded data removed]",
      "text/plain": [
       "<VegaLite 5 object>\n",
       "\n",
       "If you see this message, it means the renderer has not been properly enabled\n",
       "for the frontend that you are using. For more information, see\n",
       "https://altair-viz.github.io/user_guide/display_frontends.html#troubleshooting\n"
      ]
     },
     "execution_count": 296,
     "metadata": {},
     "output_type": "execute_result"
    }
   ],
   "source": [
    "n_pc = 3\n",
    "\n",
    "# Find the weight of each variable in loadings\n",
    "pca_loadings = pca.loadings.iloc[:, 0:n_pc]\n",
    "\n",
    "## The Plot\n",
    "pca_loadings = pca_loadings.reset_index().melt(id_vars = 'index', var_name = 'Principal Component', value_name = 'Loading').rename(columns = {'index': 'Variables'})\n",
    "pca_loadings['zero'] = np.repeat(0, len(pca_loadings))\n",
    "base = alt.Chart(pca_loadings)\n",
    "loadings = base.mark_line(point = True).encode(y = alt.X('Variables', title = ''), x = 'Loading', color = 'Principal Component')\n",
    "rule = base.mark_rule().encode(x = alt.X('zero', title = 'Loading'))\n",
    "loading_plot = (loadings + rule).properties(width = 120, height = 240)\n",
    "loading_plot.facet(column = alt.Column('Principal Component', title = ''))"
   ]
  },
  {
   "cell_type": "markdown",
   "id": "cb0397ca-487c-4a69-9c60-7e8202f2b1ca",
   "metadata": {},
   "source": [
    "Looking at the loading value of each variable in each principal component, freedom can explain the first component. Freedom to make choices allows for a happier person, while corruption attempts to limit those freedom. The second component explains support. Whether its people or the government, the feeling of support is an important factor to keep striving for happiness. The third component is the government. How do people feel about the government and its control over their society. \n",
    "\n",
    "To create these new variables, the loading values of each old variable will be used as multipliers to their original value."
   ]
  },
  {
   "cell_type": "code",
   "execution_count": 297,
   "id": "ca8e1753-9323-4e6a-a2c4-b9be80e653ea",
   "metadata": {},
   "outputs": [
    {
     "data": {
      "text/html": [
       "<div>\n",
       "<style scoped>\n",
       "    .dataframe tbody tr th:only-of-type {\n",
       "        vertical-align: middle;\n",
       "    }\n",
       "\n",
       "    .dataframe tbody tr th {\n",
       "        vertical-align: top;\n",
       "    }\n",
       "\n",
       "    .dataframe thead th {\n",
       "        text-align: right;\n",
       "    }\n",
       "</style>\n",
       "<table border=\"1\" class=\"dataframe\">\n",
       "  <thead>\n",
       "    <tr style=\"text-align: right;\">\n",
       "      <th></th>\n",
       "      <th>Freedom PC</th>\n",
       "      <th>Support PC</th>\n",
       "      <th>Government PC</th>\n",
       "      <th>HLE at Birth</th>\n",
       "    </tr>\n",
       "  </thead>\n",
       "  <tbody>\n",
       "    <tr>\n",
       "      <th>0</th>\n",
       "      <td>0.344289</td>\n",
       "      <td>-0.082865</td>\n",
       "      <td>1.132364</td>\n",
       "      <td>50.500</td>\n",
       "    </tr>\n",
       "    <tr>\n",
       "      <th>1</th>\n",
       "      <td>0.424598</td>\n",
       "      <td>-0.124325</td>\n",
       "      <td>1.156786</td>\n",
       "      <td>50.800</td>\n",
       "    </tr>\n",
       "    <tr>\n",
       "      <th>2</th>\n",
       "      <td>0.419482</td>\n",
       "      <td>-0.120778</td>\n",
       "      <td>1.052359</td>\n",
       "      <td>51.100</td>\n",
       "    </tr>\n",
       "    <tr>\n",
       "      <th>3</th>\n",
       "      <td>0.349070</td>\n",
       "      <td>-0.111574</td>\n",
       "      <td>1.048431</td>\n",
       "      <td>51.400</td>\n",
       "    </tr>\n",
       "    <tr>\n",
       "      <th>4</th>\n",
       "      <td>0.433258</td>\n",
       "      <td>-0.064726</td>\n",
       "      <td>1.165503</td>\n",
       "      <td>51.700</td>\n",
       "    </tr>\n",
       "    <tr>\n",
       "      <th>...</th>\n",
       "      <td>...</td>\n",
       "      <td>...</td>\n",
       "      <td>...</td>\n",
       "      <td>...</td>\n",
       "    </tr>\n",
       "    <tr>\n",
       "      <th>2194</th>\n",
       "      <td>0.583283</td>\n",
       "      <td>-0.384959</td>\n",
       "      <td>1.233363</td>\n",
       "      <td>52.625</td>\n",
       "    </tr>\n",
       "    <tr>\n",
       "      <th>2195</th>\n",
       "      <td>0.510011</td>\n",
       "      <td>-0.381134</td>\n",
       "      <td>1.218291</td>\n",
       "      <td>53.100</td>\n",
       "    </tr>\n",
       "    <tr>\n",
       "      <th>2196</th>\n",
       "      <td>0.490907</td>\n",
       "      <td>-0.259163</td>\n",
       "      <td>1.222146</td>\n",
       "      <td>53.575</td>\n",
       "    </tr>\n",
       "    <tr>\n",
       "      <th>2197</th>\n",
       "      <td>0.492940</td>\n",
       "      <td>-0.336905</td>\n",
       "      <td>1.121373</td>\n",
       "      <td>54.050</td>\n",
       "    </tr>\n",
       "    <tr>\n",
       "      <th>2198</th>\n",
       "      <td>0.513908</td>\n",
       "      <td>-0.349161</td>\n",
       "      <td>1.114686</td>\n",
       "      <td>54.525</td>\n",
       "    </tr>\n",
       "  </tbody>\n",
       "</table>\n",
       "<p>1958 rows × 4 columns</p>\n",
       "</div>"
      ],
      "text/plain": [
       "      Freedom PC  Support PC  Government PC  HLE at Birth\n",
       "0       0.344289   -0.082865       1.132364        50.500\n",
       "1       0.424598   -0.124325       1.156786        50.800\n",
       "2       0.419482   -0.120778       1.052359        51.100\n",
       "3       0.349070   -0.111574       1.048431        51.400\n",
       "4       0.433258   -0.064726       1.165503        51.700\n",
       "...          ...         ...            ...           ...\n",
       "2194    0.583283   -0.384959       1.233363        52.625\n",
       "2195    0.510011   -0.381134       1.218291        53.100\n",
       "2196    0.490907   -0.259163       1.222146        53.575\n",
       "2197    0.492940   -0.336905       1.121373        54.050\n",
       "2198    0.513908   -0.349161       1.114686        54.525\n",
       "\n",
       "[1958 rows x 4 columns]"
      ]
     },
     "execution_count": 297,
     "metadata": {},
     "output_type": "execute_result"
    }
   ],
   "source": [
    "pc_loading = pca.loadings.iloc[:, 0:n_pc]\n",
    "whr_variables = pc_loading.index.to_list()\n",
    "\n",
    "# Freedom PC\n",
    "freedom_pc = {}\n",
    "for i in range(pc_loading.shape[0]):\n",
    "    freedom_pc[whr_variables[i]] = pc_loading.iloc[i, 0]\n",
    "\n",
    "# Support PC\n",
    "support_pc = {}\n",
    "for i in range(pc_loading.shape[0]):\n",
    "    support_pc[whr_variables[i]] = pc_loading.iloc[i, 1]\n",
    "\n",
    "# Government PC\n",
    "govern_pc = {}\n",
    "for i in range(pc_loading.shape[0]):\n",
    "    govern_pc[whr_variables[i]] = pc_loading.iloc[i, 2]\n",
    "\n",
    "# Create new columns for the PC\n",
    "pc1 = (variables * pd.Series(freedom_pc)).sum(axis = 1)\n",
    "pc2 = (variables * pd.Series(support_pc)).sum(axis = 1)\n",
    "pc3 = (variables * pd.Series(govern_pc)).sum(axis = 1)\n",
    "whr_pc = pd.DataFrame({'Freedom PC': pc1, 'Support PC': pc2, 'Government PC': pc3, 'HLE at Birth': response})\n",
    "\n",
    "whr_pc"
   ]
  },
  {
   "cell_type": "markdown",
   "id": "cc62c089-50ae-469e-9644-34aef9fd9652",
   "metadata": {},
   "source": [
    "The new data frame represents the principal components we found earlier combined with the HLE at birth. Now that the data is processed, a model can be trained. Theoretically, the model should look like:\n",
    "\n",
    "$$\\text{HLE at Birth} = \\beta_0 + \\beta_1\\text{Freedom PC} + \\beta_2\\text{Support PC} + \\beta_3\\text{Government PC}$$"
   ]
  },
  {
   "cell_type": "markdown",
   "id": "8b224532-fa88-4ed1-b4eb-b22b3a384e27",
   "metadata": {},
   "source": [
    "### Training the Data"
   ]
  },
  {
   "cell_type": "code",
   "execution_count": 298,
   "id": "07d30754-c57c-4805-b0db-06972b35b7b7",
   "metadata": {},
   "outputs": [
    {
     "data": {
      "text/html": [
       "<div>\n",
       "<style scoped>\n",
       "    .dataframe tbody tr th:only-of-type {\n",
       "        vertical-align: middle;\n",
       "    }\n",
       "\n",
       "    .dataframe tbody tr th {\n",
       "        vertical-align: top;\n",
       "    }\n",
       "\n",
       "    .dataframe thead th {\n",
       "        text-align: right;\n",
       "    }\n",
       "</style>\n",
       "<table border=\"1\" class=\"dataframe\">\n",
       "  <thead>\n",
       "    <tr style=\"text-align: right;\">\n",
       "      <th></th>\n",
       "      <th>estimate</th>\n",
       "      <th>standard error</th>\n",
       "    </tr>\n",
       "  </thead>\n",
       "  <tbody>\n",
       "    <tr>\n",
       "      <th>const</th>\n",
       "      <td>50.999346</td>\n",
       "      <td>1.734205</td>\n",
       "    </tr>\n",
       "    <tr>\n",
       "      <th>Freedom PC</th>\n",
       "      <td>16.862820</td>\n",
       "      <td>0.830228</td>\n",
       "    </tr>\n",
       "    <tr>\n",
       "      <th>Support PC</th>\n",
       "      <td>-14.995217</td>\n",
       "      <td>1.198286</td>\n",
       "    </tr>\n",
       "    <tr>\n",
       "      <th>Government PC</th>\n",
       "      <td>-2.486238</td>\n",
       "      <td>1.254141</td>\n",
       "    </tr>\n",
       "    <tr>\n",
       "      <th>error variance</th>\n",
       "      <td>37.806876</td>\n",
       "      <td>NaN</td>\n",
       "    </tr>\n",
       "  </tbody>\n",
       "</table>\n",
       "</div>"
      ],
      "text/plain": [
       "                 estimate  standard error\n",
       "const           50.999346        1.734205\n",
       "Freedom PC      16.862820        0.830228\n",
       "Support PC     -14.995217        1.198286\n",
       "Government PC   -2.486238        1.254141\n",
       "error variance  37.806876             NaN"
      ]
     },
     "execution_count": 298,
     "metadata": {},
     "output_type": "execute_result"
    }
   ],
   "source": [
    "# Train Test split\n",
    "np.random.seed(1)\n",
    "idx_pc = np.random.choice(whr_pc.index.values, size = int(round(whr_pc.shape[0] * 0.7, 0)), replace = False).tolist()\n",
    "train_pc = whr_pc.loc[idx_pc]\n",
    "test_pc = whr_pc.drop(index = idx_pc)\n",
    "\n",
    "# Explanatory variable matrix and response\n",
    "y_pc = train_pc.loc[:, 'HLE at Birth']\n",
    "x_pc = sm.tools.add_constant(train_pc.iloc[:, 0:3])\n",
    "\n",
    "# The model\n",
    "model_pc = sm.OLS(endog = y_pc, exog = x_pc)\n",
    "result_pc = model_pc.fit()\n",
    "\n",
    "# The coefficients\n",
    "coef_pc = pd.DataFrame(\n",
    "    {'estimate': result_pc.params.values, 'standard error': np.sqrt(result_pc.cov_params().values.diagonal())},\n",
    "    index = x_pc.columns \n",
    ")\n",
    "coef_pc.loc['error variance', 'estimate'] = result_pc.scale\n",
    "\n",
    "coef_pc"
   ]
  },
  {
   "cell_type": "code",
   "execution_count": 299,
   "id": "de5f8955-16cb-4aa7-8fc5-ad27cc7c82f6",
   "metadata": {},
   "outputs": [
    {
     "name": "stdout",
     "output_type": "stream",
     "text": [
      "                     lwr        upr\n",
      "const          47.597354  54.401338\n",
      "Freedom PC     15.234161  18.491480\n",
      "Support PC    -17.345895 -12.644538\n",
      "Government PC  -4.946487  -0.025989\n",
      "R squared : 0.26538405837556156\n"
     ]
    }
   ],
   "source": [
    "print(model_pc.fit().conf_int().rename(columns = {0: 'lwr', 1: 'upr'}))\n",
    "print(f'R squared : {result_pc.rsquared}')"
   ]
  },
  {
   "cell_type": "markdown",
   "id": "1d6df139-cfc1-4f26-8a4d-d12508f43e8e",
   "metadata": {},
   "source": [
    "An expected result, the model could not find a strong relationship that could explain the variance in the data. Interstingly, with 95% confidence, a single year increase of a healthy life expectancy results in a decrease in the support of people and government by 17.3 to 12.6 and a decrease of 4.9 to 0.02 in the government. I factored in support of government in the support principal component, but it seems that a relationship with more government control and less government support is a possible model to determine the healthy life expectancy. Freedom is a fairly obvious positive variable as freedom creates more opportunity of happiness and more happiness can lead to a healthier life.\n",
    "\n",
    "I can see if without the principal components analysis, the original data could explain the relationship better. The expected model is:\n",
    "$$\\text{HLE at Birth} = \\beta_0 + \\beta_1\\text{Social Support} + \\beta_2\\text{Freedom of choice} + \\beta_3\\text{Generosity} +\n",
    "\\beta_4\\text{Corruption} + \\beta_5\\text{Positive} + \\beta_6\\text{Negative} \n",
    "$$"
   ]
  },
  {
   "cell_type": "code",
   "execution_count": 300,
   "id": "8fcb7826-4519-4d90-9ea2-bd3080c4ce09",
   "metadata": {},
   "outputs": [
    {
     "data": {
      "text/html": [
       "<div>\n",
       "<style scoped>\n",
       "    .dataframe tbody tr th:only-of-type {\n",
       "        vertical-align: middle;\n",
       "    }\n",
       "\n",
       "    .dataframe tbody tr th {\n",
       "        vertical-align: top;\n",
       "    }\n",
       "\n",
       "    .dataframe thead th {\n",
       "        text-align: right;\n",
       "    }\n",
       "</style>\n",
       "<table border=\"1\" class=\"dataframe\">\n",
       "  <thead>\n",
       "    <tr style=\"text-align: right;\">\n",
       "      <th></th>\n",
       "      <th>estimate</th>\n",
       "      <th>standard error</th>\n",
       "    </tr>\n",
       "  </thead>\n",
       "  <tbody>\n",
       "    <tr>\n",
       "      <th>const</th>\n",
       "      <td>32.509869</td>\n",
       "      <td>1.853345</td>\n",
       "    </tr>\n",
       "    <tr>\n",
       "      <th>Social support</th>\n",
       "      <td>36.804832</td>\n",
       "      <td>1.430618</td>\n",
       "    </tr>\n",
       "    <tr>\n",
       "      <th>Freedom of choice</th>\n",
       "      <td>8.325083</td>\n",
       "      <td>1.404209</td>\n",
       "    </tr>\n",
       "    <tr>\n",
       "      <th>Generosity</th>\n",
       "      <td>-4.403360</td>\n",
       "      <td>0.978703</td>\n",
       "    </tr>\n",
       "    <tr>\n",
       "      <th>Perceptions of corruption</th>\n",
       "      <td>-7.576218</td>\n",
       "      <td>0.907762</td>\n",
       "    </tr>\n",
       "    <tr>\n",
       "      <th>Positive affect</th>\n",
       "      <td>-6.860839</td>\n",
       "      <td>1.773018</td>\n",
       "    </tr>\n",
       "    <tr>\n",
       "      <th>Negative affect</th>\n",
       "      <td>17.495043</td>\n",
       "      <td>1.928631</td>\n",
       "    </tr>\n",
       "    <tr>\n",
       "      <th>error variance</th>\n",
       "      <td>28.532831</td>\n",
       "      <td>NaN</td>\n",
       "    </tr>\n",
       "  </tbody>\n",
       "</table>\n",
       "</div>"
      ],
      "text/plain": [
       "                            estimate  standard error\n",
       "const                      32.509869        1.853345\n",
       "Social support             36.804832        1.430618\n",
       "Freedom of choice           8.325083        1.404209\n",
       "Generosity                 -4.403360        0.978703\n",
       "Perceptions of corruption  -7.576218        0.907762\n",
       "Positive affect            -6.860839        1.773018\n",
       "Negative affect            17.495043        1.928631\n",
       "error variance             28.532831             NaN"
      ]
     },
     "execution_count": 300,
     "metadata": {},
     "output_type": "execute_result"
    }
   ],
   "source": [
    "whr_main = whr_main.drop('Log GDP per capita', axis = 1)\n",
    "\n",
    "# Train Test split\n",
    "np.random.seed(1)\n",
    "idx_main = np.random.choice(whr_main.index.values, size = int(round(whr_main.shape[0] * 0.7, 0)), replace = False).tolist()\n",
    "train_main = whr_main.loc[idx_main]\n",
    "test_main = whr_main.drop(index = idx_main)\n",
    "\n",
    "# Explanatory variable matrix and response\n",
    "y_main = train_main.loc[:, 'HLE at birth']\n",
    "x_main = sm.tools.add_constant(train_main.iloc[:, [0, 2, 3, 4, 5, 6]])\n",
    "\n",
    "# The model\n",
    "model_main = sm.OLS(endog = y_main, exog = x_main)\n",
    "result_main = model_main.fit()\n",
    "\n",
    "# The coefficients\n",
    "coef_main = pd.DataFrame(\n",
    "    {'estimate': result_main.params.values, 'standard error': np.sqrt(result_main.cov_params().values.diagonal())},\n",
    "    index = x_main.columns \n",
    ")\n",
    "coef_main.loc['error variance', 'estimate'] = result_main.scale\n",
    "\n",
    "coef_main"
   ]
  },
  {
   "cell_type": "code",
   "execution_count": 301,
   "id": "1d6dc685-4d8a-4c0a-8a43-785c5e574e7b",
   "metadata": {},
   "outputs": [
    {
     "name": "stdout",
     "output_type": "stream",
     "text": [
      "                                 lwr        upr\n",
      "const                      28.874153  36.145585\n",
      "Social support             33.998382  39.611282\n",
      "Freedom of choice           5.570439  11.079726\n",
      "Generosity                 -6.323287  -2.483434\n",
      "Perceptions of corruption  -9.356979  -5.795457\n",
      "Positive affect           -10.338977  -3.382701\n",
      "Negative affect            13.711639  21.278448\n",
      "R squared : 0.44680241184783986\n"
     ]
    }
   ],
   "source": [
    "print(model_main.fit().conf_int().rename(columns = {0: 'lwr', 1: 'upr'}))\n",
    "print(f'R squared : {result_main.rsquared}')"
   ]
  },
  {
   "cell_type": "markdown",
   "id": "55b97704-0a70-47e6-94ec-0e7b66dfb084",
   "metadata": {},
   "source": [
    "Once again an expected result, the model could not find a strong relationship that could explain the variance in the data, but the relationship is much stronger according to the rsquared, although by default rsquared increases with the number of predictors. Interestingly, the positive affect seems to have a negative correlation with healthy life expectancy while negative affect seems to have the opposite. I feel like this could be due to the current climate of the country compared to the past. People feel more sad/less happy because they feel the country became gloomier or worse than the past, but this is not a comparison to the entire world, where likely there are people living in much worse conditions, but a comparison to their past. I guess bias does exist because while the question compares it self to the entire world, the data collected is only comparing to their own country."
   ]
  },
  {
   "cell_type": "code",
   "execution_count": 302,
   "id": "85606133-0ad4-4f24-b19c-a115185fcf6c",
   "metadata": {},
   "outputs": [
    {
     "data": {
      "application/vnd.vegalite.v5+json": {
       "$schema": "https://vega.github.io/schema/vega-lite/v5.15.1.json",
       "config": {
        "view": {
         "continuousHeight": 300,
         "continuousWidth": 300
        }
       },
       "data": {
        "name": "data-bd7690b792fb55a13663c5bba0987c5e"
       },
       "datasets": {
        "data-bd7690b792fb55a13663c5bba0987c5e": [
         {
          "Actual Values": 51.7,
          "Predicted Values": 56.37817228153355
         },
         {
          "Actual Values": 52.6,
          "Predicted Values": 54.247887801379434
         },
         {
          "Actual Values": 67.6,
          "Predicted Values": 61.31535105512437
         },
         {
          "Actual Values": 69,
          "Predicted Values": 58.853263284784816
         },
         {
          "Actual Values": 69.025,
          "Predicted Values": 58.88550076611708
         },
         {
          "Actual Values": 69.1,
          "Predicted Values": 60.76189081595096
         },
         {
          "Actual Values": 69.125,
          "Predicted Values": 60.7135608718189
         },
         {
          "Actual Values": 51.84,
          "Predicted Values": 59.93051820238156
         },
         {
          "Actual Values": 66.18,
          "Predicted Values": 65.37086337985099
         },
         {
          "Actual Values": 66.3,
          "Predicted Values": 66.51887056702869
         },
         {
          "Actual Values": 66.42,
          "Predicted Values": 66.9568168928052
         },
         {
          "Actual Values": 67.25,
          "Predicted Values": 65.50470178448008
         },
         {
          "Actual Values": 65.52,
          "Predicted Values": 57.52902820431619
         },
         {
          "Actual Values": 67.65,
          "Predicted Values": 60.4217120477141
         },
         {
          "Actual Values": 70.44,
          "Predicted Values": 68.02535817226607
         },
         {
          "Actual Values": 70.6,
          "Predicted Values": 67.70238570923662
         },
         {
          "Actual Values": 71.125,
          "Predicted Values": 66.52481245181986
         },
         {
          "Actual Values": 70.3,
          "Predicted Values": 67.33437670488908
         },
         {
          "Actual Values": 70.65,
          "Predicted Values": 67.3242392673008
         },
         {
          "Actual Values": 71.15,
          "Predicted Values": 65.13401974393442
         },
         {
          "Actual Values": 61.42,
          "Predicted Values": 60.938975334723544
         },
         {
          "Actual Values": 62.54,
          "Predicted Values": 62.95946029721852
         },
         {
          "Actual Values": 63.225,
          "Predicted Values": 64.59788394002051
         },
         {
          "Actual Values": 60.68,
          "Predicted Values": 58.78605793031555
         },
         {
          "Actual Values": 61.2,
          "Predicted Values": 57.88376178594495
         },
         {
          "Actual Values": 61.72,
          "Predicted Values": 60.90121715469244
         },
         {
          "Actual Values": 63.925,
          "Predicted Values": 61.722193841762646
         },
         {
          "Actual Values": 64.05,
          "Predicted Values": 62.70536057741421
         },
         {
          "Actual Values": 64.175,
          "Predicted Values": 60.530178088398195
         },
         {
          "Actual Values": 62.3,
          "Predicted Values": 65.6763903527631
         },
         {
          "Actual Values": 63.98,
          "Predicted Values": 66.3199979794144
         },
         {
          "Actual Values": 65.1,
          "Predicted Values": 65.53095333113889
         },
         {
          "Actual Values": 65.325,
          "Predicted Values": 65.73566978658356
         },
         {
          "Actual Values": 65.55,
          "Predicted Values": 64.44972171355904
         },
         {
          "Actual Values": 68.88,
          "Predicted Values": 66.79106693354747
         },
         {
          "Actual Values": 69.2,
          "Predicted Values": 66.71626466921968
         },
         {
          "Actual Values": 69.52,
          "Predicted Values": 66.59301426996909
         },
         {
          "Actual Values": 69.68,
          "Predicted Values": 67.47851859323671
         },
         {
          "Actual Values": 70,
          "Predicted Values": 66.9953128184099
         },
         {
          "Actual Values": 71.05,
          "Predicted Values": 67.2417440721758
         },
         {
          "Actual Values": 52.48,
          "Predicted Values": 55.83676252294666
         },
         {
          "Actual Values": 53.52,
          "Predicted Values": 59.74434170871485
         },
         {
          "Actual Values": 54.04,
          "Predicted Values": 58.60574052745355
         },
         {
          "Actual Values": 54.3,
          "Predicted Values": 55.57928253360451
         },
         {
          "Actual Values": 55.2,
          "Predicted Values": 55.85500657571116
         },
         {
          "Actual Values": 55.8,
          "Predicted Values": 59.652251194353546
         },
         {
          "Actual Values": 60.9,
          "Predicted Values": 61.80547651091394
         },
         {
          "Actual Values": 61.1,
          "Predicted Values": 61.85118696738612
         },
         {
          "Actual Values": 63.45,
          "Predicted Values": 62.55209748433715
         },
         {
          "Actual Values": 63.6,
          "Predicted Values": 62.295810119562596
         },
         {
          "Actual Values": 67,
          "Predicted Values": 58.546466524734775
         },
         {
          "Actual Values": 67,
          "Predicted Values": 57.91769628285369
         },
         {
          "Actual Values": 67,
          "Predicted Values": 58.477915973500444
         },
         {
          "Actual Values": 67.15,
          "Predicted Values": 61.010356610825234
         },
         {
          "Actual Values": 67.2,
          "Predicted Values": 62.29638186522414
         },
         {
          "Actual Values": 67.3,
          "Predicted Values": 60.85516430453937
         },
         {
          "Actual Values": 48.84,
          "Predicted Values": 66.45777626602582
         },
         {
          "Actual Values": 51.48,
          "Predicted Values": 66.35057982905633
         },
         {
          "Actual Values": 52.36,
          "Predicted Values": 64.91115443243471
         },
         {
          "Actual Values": 53.35,
          "Predicted Values": 64.12488554919561
         },
         {
          "Actual Values": 54.725,
          "Predicted Values": 62.73864001308108
         },
         {
          "Actual Values": 63.9,
          "Predicted Values": 66.4016819775127
         },
         {
          "Actual Values": 64.06,
          "Predicted Values": 66.33576546569954
         },
         {
          "Actual Values": 64.54,
          "Predicted Values": 65.45673555260396
         },
         {
          "Actual Values": 65.05,
          "Predicted Values": 64.98463385027529
         },
         {
          "Actual Values": 65.925,
          "Predicted Values": 64.03038819629829
         },
         {
          "Actual Values": 65.34,
          "Predicted Values": 62.749491743422716
         },
         {
          "Actual Values": 66.1,
          "Predicted Values": 65.26865993917684
         },
         {
          "Actual Values": 66.4,
          "Predicted Values": 65.0692241622927
         },
         {
          "Actual Values": 66.5,
          "Predicted Values": 64.42019577435006
         },
         {
          "Actual Values": 53.4,
          "Predicted Values": 59.644797973018285
         },
         {
          "Actual Values": 54.525,
          "Predicted Values": 60.1166366368226
         },
         {
          "Actual Values": 55.65,
          "Predicted Values": 58.729866162016805
         },
         {
          "Actual Values": 51.52,
          "Predicted Values": 57.719428488050205
         },
         {
          "Actual Values": 59.34,
          "Predicted Values": 59.92185198431858
         },
         {
          "Actual Values": 59.68,
          "Predicted Values": 58.84744238851069
         },
         {
          "Actual Values": 61.9,
          "Predicted Values": 61.59460987841624
         },
         {
          "Actual Values": 48.28,
          "Predicted Values": 60.984284001230385
         },
         {
          "Actual Values": 50.92,
          "Predicted Values": 62.41354097591537
         },
         {
          "Actual Values": 70.98,
          "Predicted Values": 66.88272954206498
         },
         {
          "Actual Values": 71.04,
          "Predicted Values": 66.84356793980321
         },
         {
          "Actual Values": 71.2,
          "Predicted Values": 68.6946960034418
         },
         {
          "Actual Values": 71.25,
          "Predicted Values": 68.06906072198086
         },
         {
          "Actual Values": 71.35,
          "Predicted Values": 66.96013975361421
         },
         {
          "Actual Values": 42.84,
          "Predicted Values": 56.2196535531912
         },
         {
          "Actual Values": 47.08,
          "Predicted Values": 57.97351358229948
         },
         {
          "Actual Values": 47.46,
          "Predicted Values": 55.596241038176935
         },
         {
          "Actual Values": 49.36,
          "Predicted Values": 58.22747238905171
         },
         {
          "Actual Values": 49.74,
          "Predicted Values": 58.069079634473596
         },
         {
          "Actual Values": 50.875,
          "Predicted Values": 55.3201399029886
         },
         {
          "Actual Values": 51.25,
          "Predicted Values": 55.96422413052268
         },
         {
          "Actual Values": 67.96,
          "Predicted Values": 60.96519782241595
         },
         {
          "Actual Values": 69.55,
          "Predicted Values": 62.79196478807868
         },
         {
          "Actual Values": 70.15,
          "Predicted Values": 63.765701356106256
         },
         {
          "Actual Values": 70.3,
          "Predicted Values": 65.65394634306604
         },
         {
          "Actual Values": 66.54,
          "Predicted Values": 64.8704142926307
         },
         {
          "Actual Values": 66.98,
          "Predicted Values": 65.06051803638421
         },
         {
          "Actual Values": 67.64,
          "Predicted Values": 65.43057642707319
         },
         {
          "Actual Values": 68.475,
          "Predicted Values": 65.01831220685818
         },
         {
          "Actual Values": 69.175,
          "Predicted Values": 63.49230329965426
         },
         {
          "Actual Values": 56.76,
          "Predicted Values": 60.69148318763087
         },
         {
          "Actual Values": 57.24,
          "Predicted Values": 62.322125239383524
         },
         {
          "Actual Values": 57.48,
          "Predicted Values": 62.518813982400886
         },
         {
          "Actual Values": 53.76,
          "Predicted Values": 59.915779542987266
         },
         {
          "Actual Values": 56.2,
          "Predicted Values": 58.40923441685277
         },
         {
          "Actual Values": 50.9,
          "Predicted Values": 61.909383098036436
         },
         {
          "Actual Values": 51.4,
          "Predicted Values": 61.70176072634338
         },
         {
          "Actual Values": 68.72,
          "Predicted Values": 66.426891312833
         },
         {
          "Actual Values": 69.52,
          "Predicted Values": 66.4003865605831
         },
         {
          "Actual Values": 70,
          "Predicted Values": 66.18589895917455
         },
         {
          "Actual Values": 70,
          "Predicted Values": 65.90492075943209
         },
         {
          "Actual Values": 70,
          "Predicted Values": 66.44813983006871
         },
         {
          "Actual Values": 70,
          "Predicted Values": 66.55794341225776
         },
         {
          "Actual Values": 67.3,
          "Predicted Values": 61.80513333032857
         },
         {
          "Actual Values": 68.425,
          "Predicted Values": 63.14147158556935
         },
         {
          "Actual Values": 70.8,
          "Predicted Values": 62.611316756118995
         },
         {
          "Actual Values": 71.12,
          "Predicted Values": 60.251962121265976
         },
         {
          "Actual Values": 71.8,
          "Predicted Values": 61.38188008769643
         },
         {
          "Actual Values": 67.34,
          "Predicted Values": 64.25037701610758
         },
         {
          "Actual Values": 67.7,
          "Predicted Values": 64.88711505796705
         },
         {
          "Actual Values": 68.06,
          "Predicted Values": 64.55074057519306
         },
         {
          "Actual Values": 68.3,
          "Predicted Values": 66.2985202945516
         },
         {
          "Actual Values": 68.55,
          "Predicted Values": 66.15211290963788
         },
         {
          "Actual Values": 69.05,
          "Predicted Values": 65.40719527671882
         },
         {
          "Actual Values": 69.18,
          "Predicted Values": 68.63333687958219
         },
         {
          "Actual Values": 69.84,
          "Predicted Values": 69.83921060067732
         },
         {
          "Actual Values": 70.06,
          "Predicted Values": 70.09248015325305
         },
         {
          "Actual Values": 70.28,
          "Predicted Values": 69.48099998016693
         },
         {
          "Actual Values": 71,
          "Predicted Values": 71.30951472934879
         },
         {
          "Actual Values": 71.125,
          "Predicted Values": 69.72338484678544
         },
         {
          "Actual Values": 71.25,
          "Predicted Values": 69.94478533454591
         },
         {
          "Actual Values": 64.64,
          "Predicted Values": 65.09316205722138
         },
         {
          "Actual Values": 63.92,
          "Predicted Values": 65.25820057172224
         },
         {
          "Actual Values": 63.68,
          "Predicted Values": 65.24676022970829
         },
         {
          "Actual Values": 64.4,
          "Predicted Values": 65.78992013387669
         },
         {
          "Actual Values": 64.44,
          "Predicted Values": 63.6003290383963
         },
         {
          "Actual Values": 65.12,
          "Predicted Values": 64.01657797408015
         },
         {
          "Actual Values": 66.48,
          "Predicted Values": 63.75317996618428
         },
         {
          "Actual Values": 66.82,
          "Predicted Values": 66.03958195807738
         },
         {
          "Actual Values": 67.5,
          "Predicted Values": 65.5131654259872
         },
         {
          "Actual Values": 68.25,
          "Predicted Values": 64.91627145737861
         },
         {
          "Actual Values": 68.75,
          "Predicted Values": 62.599606201506475
         },
         {
          "Actual Values": 69,
          "Predicted Values": 62.359246866639545
         },
         {
          "Actual Values": 69.25,
          "Predicted Values": 62.98602451027748
         },
         {
          "Actual Values": 61.7,
          "Predicted Values": 60.11487176644988
         },
         {
          "Actual Values": 61.76,
          "Predicted Values": 59.43871056082399
         },
         {
          "Actual Values": 61.82,
          "Predicted Values": 57.62972859939416
         },
         {
          "Actual Values": 62,
          "Predicted Values": 60.748659594941294
         },
         {
          "Actual Values": 63.5,
          "Predicted Values": 61.27444692292212
         },
         {
          "Actual Values": 64.94,
          "Predicted Values": 63.14518596399235
         },
         {
          "Actual Values": 63.86,
          "Predicted Values": 64.31745091583716
         },
         {
          "Actual Values": 65.25,
          "Predicted Values": 64.35753223102546
         },
         {
          "Actual Values": 65.6,
          "Predicted Values": 65.68785792753242
         },
         {
          "Actual Values": 65.78,
          "Predicted Values": 66.24700631395687
         },
         {
          "Actual Values": 66.34,
          "Predicted Values": 65.91974589104868
         },
         {
          "Actual Values": 66.62,
          "Predicted Values": 64.40577513144251
         },
         {
          "Actual Values": 68.525,
          "Predicted Values": 68.25251957921978
         },
         {
          "Actual Values": 57.64,
          "Predicted Values": 59.859980839956364
         },
         {
          "Actual Values": 58.7,
          "Predicted Values": 62.04253551666856
         },
         {
          "Actual Values": 59.1,
          "Predicted Values": 60.61182706329487
         },
         {
          "Actual Values": 59.5,
          "Predicted Values": 61.17985990184922
         },
         {
          "Actual Values": 61.1,
          "Predicted Values": 58.15271647558452
         },
         {
          "Actual Values": 70.925,
          "Predicted Values": 71.59161796493002
         },
         {
          "Actual Values": 71.15,
          "Predicted Values": 71.47806459438992
         },
         {
          "Actual Values": 71,
          "Predicted Values": 66.17951252567285
         },
         {
          "Actual Values": 71.4,
          "Predicted Values": 67.60490824101717
         },
         {
          "Actual Values": 71.5,
          "Predicted Values": 67.76297435956312
         },
         {
          "Actual Values": 71.9,
          "Predicted Values": 67.59841787529648
         },
         {
          "Actual Values": 54.46,
          "Predicted Values": 61.42596493188075
         },
         {
          "Actual Values": 56.625,
          "Predicted Values": 60.89292369432971
         },
         {
          "Actual Values": 57.6,
          "Predicted Values": 61.081446148526375
         },
         {
          "Actual Values": 57.925,
          "Predicted Values": 58.75079531342711
         },
         {
          "Actual Values": 58.25,
          "Predicted Values": 61.73434280391778
         },
         {
          "Actual Values": 57,
          "Predicted Values": 57.30670031196231
         },
         {
          "Actual Values": 63.3,
          "Predicted Values": 59.457867986764334
         },
         {
          "Actual Values": 63.4,
          "Predicted Values": 58.30166357716275
         },
         {
          "Actual Values": 63.7,
          "Predicted Values": 59.966543169066355
         },
         {
          "Actual Values": 64,
          "Predicted Values": 62.745661053891524
         },
         {
          "Actual Values": 64.2,
          "Predicted Values": 60.12172799385875
         },
         {
          "Actual Values": 64.325,
          "Predicted Values": 60.42678227803688
         },
         {
          "Actual Values": 64.7,
          "Predicted Values": 63.088522595030916
         },
         {
          "Actual Values": 65.075,
          "Predicted Values": 64.29412242301665
         },
         {
          "Actual Values": 70.02,
          "Predicted Values": 67.91134815056705
         },
         {
          "Actual Values": 70.3,
          "Predicted Values": 67.43643856850612
         },
         {
          "Actual Values": 70.9,
          "Predicted Values": 67.13477316712313
         },
         {
          "Actual Values": 71.5,
          "Predicted Values": 67.73325611639822
         },
         {
          "Actual Values": 53.86,
          "Predicted Values": 61.59415488409937
         },
         {
          "Actual Values": 55.62,
          "Predicted Values": 62.30424617213209
         },
         {
          "Actual Values": 56.06,
          "Predicted Values": 59.937402420968716
         },
         {
          "Actual Values": 69.76,
          "Predicted Values": 63.37488187562978
         },
         {
          "Actual Values": 69.92,
          "Predicted Values": 61.89616257096278
         },
         {
          "Actual Values": 70,
          "Predicted Values": 62.484560831305735
         },
         {
          "Actual Values": 70.9,
          "Predicted Values": 64.61770934623809
         },
         {
          "Actual Values": 58.98,
          "Predicted Values": 62.934832513731244
         },
         {
          "Actual Values": 60.66,
          "Predicted Values": 63.24586346545238
         },
         {
          "Actual Values": 61.22,
          "Predicted Values": 63.83468605852994
         },
         {
          "Actual Values": 61.5,
          "Predicted Values": 64.03519324504047
         },
         {
          "Actual Values": 61.7,
          "Predicted Values": 63.89120869929021
         },
         {
          "Actual Values": 62.9,
          "Predicted Values": 64.98714929827938
         },
         {
          "Actual Values": 51.02,
          "Predicted Values": 60.674930664453534
         },
         {
          "Actual Values": 53.3,
          "Predicted Values": 57.467047389178724
         },
         {
          "Actual Values": 54.2,
          "Predicted Values": 56.85095049482003
         },
         {
          "Actual Values": 33.32,
          "Predicted Values": 56.912785096287124
         },
         {
          "Actual Values": 43.96,
          "Predicted Values": 57.647016798370665
         },
         {
          "Actual Values": 49.28,
          "Predicted Values": 55.899736128265715
         },
         {
          "Actual Values": 54.9,
          "Predicted Values": 53.66721284699992
         },
         {
          "Actual Values": 62.9,
          "Predicted Values": 62.72117220286996
         },
         {
          "Actual Values": 62.7,
          "Predicted Values": 62.7181391200922
         },
         {
          "Actual Values": 61.7,
          "Predicted Values": 63.03690054842691
         },
         {
          "Actual Values": 61.5,
          "Predicted Values": 62.69359170329703
         },
         {
          "Actual Values": 62.575,
          "Predicted Values": 64.23618244254087
         },
         {
          "Actual Values": 63.85,
          "Predicted Values": 63.61091529402746
         },
         {
          "Actual Values": 65.96,
          "Predicted Values": 62.42320562139251
         },
         {
          "Actual Values": 66.12,
          "Predicted Values": 62.37215603461245
         },
         {
          "Actual Values": 66.6,
          "Predicted Values": 63.535316584094524
         },
         {
          "Actual Values": 67.5,
          "Predicted Values": 66.07730886367244
         },
         {
          "Actual Values": 71.2,
          "Predicted Values": 67.98033543313358
         },
         {
          "Actual Values": 71.7,
          "Predicted Values": 67.48736382950838
         },
         {
          "Actual Values": 71.95,
          "Predicted Values": 68.0913635747564
         },
         {
          "Actual Values": 72.05,
          "Predicted Values": 68.11626768481054
         },
         {
          "Actual Values": 56.22,
          "Predicted Values": 59.11246567569181
         },
         {
          "Actual Values": 56.94,
          "Predicted Values": 59.63663055054536
         },
         {
          "Actual Values": 59.7,
          "Predicted Values": 60.18695057747341
         },
         {
          "Actual Values": 61.42,
          "Predicted Values": 61.36272387179636
         },
         {
          "Actual Values": 62.08,
          "Predicted Values": 62.18228722364828
         },
         {
          "Actual Values": 62.55,
          "Predicted Values": 60.471921901991855
         },
         {
          "Actual Values": 62.675,
          "Predicted Values": 61.1706049476118
         },
         {
          "Actual Values": 63.175,
          "Predicted Values": 62.14772970766447
         },
         {
          "Actual Values": 64.72,
          "Predicted Values": 57.40603136129284
         },
         {
          "Actual Values": 65.14,
          "Predicted Values": 57.58780133317516
         },
         {
          "Actual Values": 66.45,
          "Predicted Values": 57.34507648041373
         },
         {
          "Actual Values": 66.75,
          "Predicted Values": 57.22522920247801
         },
         {
          "Actual Values": 60.94,
          "Predicted Values": 56.539045872475995
         },
         {
          "Actual Values": 60.82,
          "Predicted Values": 56.6854328566224
         },
         {
          "Actual Values": 61.75,
          "Predicted Values": 55.320011592889244
         },
         {
          "Actual Values": 69.62,
          "Predicted Values": 68.4153379985153
         },
         {
          "Actual Values": 70.22,
          "Predicted Values": 67.36079477740874
         },
         {
          "Actual Values": 71,
          "Predicted Values": 68.15621032223537
         },
         {
          "Actual Values": 71.3,
          "Predicted Values": 66.32171556437498
         },
         {
          "Actual Values": 71.24,
          "Predicted Values": 60.75292677292435
         },
         {
          "Actual Values": 71.32,
          "Predicted Values": 61.33479652287928
         },
         {
          "Actual Values": 71.4,
          "Predicted Values": 60.17184863229132
         },
         {
          "Actual Values": 71.95,
          "Predicted Values": 63.17826968380489
         },
         {
          "Actual Values": 72.1,
          "Predicted Values": 63.54614940043412
         },
         {
          "Actual Values": 72.55,
          "Predicted Values": 65.9007892742839
         },
         {
          "Actual Values": 72.7,
          "Predicted Values": 65.4130139355267
         },
         {
          "Actual Values": 72.85,
          "Predicted Values": 66.63386392671732
         },
         {
          "Actual Values": 70.8,
          "Predicted Values": 62.37891611891652
         },
         {
          "Actual Values": 71.4,
          "Predicted Values": 62.035720113927624
         },
         {
          "Actual Values": 72.125,
          "Predicted Values": 62.78234571599195
         },
         {
          "Actual Values": 52.5,
          "Predicted Values": 61.07619564182841
         },
         {
          "Actual Values": 53.65,
          "Predicted Values": 60.44975088826768
         },
         {
          "Actual Values": 54.8,
          "Predicted Values": 59.114416261756936
         },
         {
          "Actual Values": 66.6,
          "Predicted Values": 64.94835728254438
         },
         {
          "Actual Values": 66.6,
          "Predicted Values": 63.21783013044406
         },
         {
          "Actual Values": 66.6,
          "Predicted Values": 66.65321360871185
         },
         {
          "Actual Values": 66.6,
          "Predicted Values": 65.59426419959166
         },
         {
          "Actual Values": 66.6,
          "Predicted Values": 63.311965455638266
         },
         {
          "Actual Values": 72.64,
          "Predicted Values": 66.61278205541161
         },
         {
          "Actual Values": 73,
          "Predicted Values": 67.31858361365826
         },
         {
          "Actual Values": 73.975,
          "Predicted Values": 67.3754463033739
         },
         {
          "Actual Values": 66.52,
          "Predicted Values": 64.74385080186218
         },
         {
          "Actual Values": 58.6,
          "Predicted Values": 65.77995402560143
         },
         {
          "Actual Values": 59.8,
          "Predicted Values": 67.57301713665927
         },
         {
          "Actual Values": 60.4,
          "Predicted Values": 67.33587361601812
         },
         {
          "Actual Values": 61.6,
          "Predicted Values": 66.57084010386953
         },
         {
          "Actual Values": 62.2,
          "Predicted Values": 66.82478737291751
         },
         {
          "Actual Values": 63.8,
          "Predicted Values": 67.06247511988761
         },
         {
          "Actual Values": 64.2,
          "Predicted Values": 66.53715304741462
         },
         {
          "Actual Values": 65,
          "Predicted Values": 68.5247728235103
         },
         {
          "Actual Values": 55.06,
          "Predicted Values": 63.60669625635903
         },
         {
          "Actual Values": 57.3,
          "Predicted Values": 61.305032740437284
         },
         {
          "Actual Values": 57.7,
          "Predicted Values": 60.67786081256658
         },
         {
          "Actual Values": 69,
          "Predicted Values": 66.1030950669657
         },
         {
          "Actual Values": 61.18,
          "Predicted Values": 64.52965691799038
         },
         {
          "Actual Values": 62.02,
          "Predicted Values": 65.57632051279515
         },
         {
          "Actual Values": 63.28,
          "Predicted Values": 62.72214108853672
         },
         {
          "Actual Values": 65.8,
          "Predicted Values": 65.25354869587473
         },
         {
          "Actual Values": 66.85,
          "Predicted Values": 64.33842701161338
         },
         {
          "Actual Values": 55.88,
          "Predicted Values": 64.48760915315675
         },
         {
          "Actual Values": 56.64,
          "Predicted Values": 63.68135838512168
         },
         {
          "Actual Values": 60.2,
          "Predicted Values": 61.984756464574986
         },
         {
          "Actual Values": 60.5,
          "Predicted Values": 63.23359412127168
         },
         {
          "Actual Values": 60.8,
          "Predicted Values": 60.52756552691367
         },
         {
          "Actual Values": 63.1,
          "Predicted Values": 64.16435116207785
         },
         {
          "Actual Values": 64.6,
          "Predicted Values": 61.808841219493964
         },
         {
          "Actual Values": 65.2,
          "Predicted Values": 63.22094580037234
         },
         {
          "Actual Values": 65.5,
          "Predicted Values": 64.09946630697681
         },
         {
          "Actual Values": 65.8,
          "Predicted Values": 63.8369142196287
         },
         {
          "Actual Values": 66.4,
          "Predicted Values": 67.33744701900082
         },
         {
          "Actual Values": 65.58,
          "Predicted Values": 57.26735658280183
         },
         {
          "Actual Values": 66.225,
          "Predicted Values": 53.28951988282378
         },
         {
          "Actual Values": 41.52,
          "Predicted Values": 65.1618744221768
         },
         {
          "Actual Values": 42.9,
          "Predicted Values": 63.84007237695709
         },
         {
          "Actual Values": 44.2,
          "Predicted Values": 63.00846943287593
         },
         {
          "Actual Values": 63.7,
          "Predicted Values": 63.733754821525814
         },
         {
          "Actual Values": 63.9,
          "Predicted Values": 63.34384024980948
         },
         {
          "Actual Values": 65.1,
          "Predicted Values": 62.91537973476365
         },
         {
          "Actual Values": 67.05,
          "Predicted Values": 66.76101248982161
         },
         {
          "Actual Values": 67.75,
          "Predicted Values": 66.91579644932722
         },
         {
          "Actual Values": 70.3,
          "Predicted Values": 67.79682010865147
         },
         {
          "Actual Values": 71.3,
          "Predicted Values": 68.59066954856613
         },
         {
          "Actual Values": 71.55,
          "Predicted Values": 68.88614522030785
         },
         {
          "Actual Values": 54.62,
          "Predicted Values": 61.16512405781256
         },
         {
          "Actual Values": 55.82,
          "Predicted Values": 59.444651078350766
         },
         {
          "Actual Values": 56.06,
          "Predicted Values": 60.82356581894296
         },
         {
          "Actual Values": 56.55,
          "Predicted Values": 62.23449176390744
         },
         {
          "Actual Values": 57.05,
          "Predicted Values": 58.61028168311635
         },
         {
          "Actual Values": 58.05,
          "Predicted Values": 58.43965886567067
         },
         {
          "Actual Values": 51.72,
          "Predicted Values": 59.74827570641798
         },
         {
          "Actual Values": 52.78,
          "Predicted Values": 59.685115893036254
         },
         {
          "Actual Values": 56.55,
          "Predicted Values": 57.31485076506176
         },
         {
          "Actual Values": 65.16,
          "Predicted Values": 65.873848593207
         },
         {
          "Actual Values": 65.4,
          "Predicted Values": 64.89458975817159
         },
         {
          "Actual Values": 65.56,
          "Predicted Values": 65.60337558130243
         },
         {
          "Actual Values": 51.3,
          "Predicted Values": 64.54185568097633
         },
         {
          "Actual Values": 52.32,
          "Predicted Values": 64.6757079355979
         },
         {
          "Actual Values": 53.8,
          "Predicted Values": 60.503788761897795
         },
         {
          "Actual Values": 54.2,
          "Predicted Values": 60.349352052279556
         },
         {
          "Actual Values": 55.4,
          "Predicted Values": 56.383072152493476
         },
         {
          "Actual Values": 71.12,
          "Predicted Values": 62.663608260625246
         },
         {
          "Actual Values": 71.55,
          "Predicted Values": 63.928491659192375
         },
         {
          "Actual Values": 56.8,
          "Predicted Values": 62.05020107012268
         },
         {
          "Actual Values": 57.1,
          "Predicted Values": 64.4550823970963
         },
         {
          "Actual Values": 59.575,
          "Predicted Values": 62.35806564549583
         },
         {
          "Actual Values": 59.8,
          "Predicted Values": 63.373916210010336
         },
         {
          "Actual Values": 60.475,
          "Predicted Values": 58.99246119727741
         },
         {
          "Actual Values": 65.24,
          "Predicted Values": 65.62421119486343
         },
         {
          "Actual Values": 65.38,
          "Predicted Values": 64.29541394919292
         },
         {
          "Actual Values": 65.66,
          "Predicted Values": 65.41245728958148
         },
         {
          "Actual Values": 60.24,
          "Predicted Values": 62.21384419296718
         },
         {
          "Actual Values": 60.62,
          "Predicted Values": 61.24273002957703
         },
         {
          "Actual Values": 61.76,
          "Predicted Values": 60.75837835818975
         },
         {
          "Actual Values": 62.14,
          "Predicted Values": 61.58627384692199
         },
         {
          "Actual Values": 64.1,
          "Predicted Values": 64.00619326502476
         },
         {
          "Actual Values": 64.5,
          "Predicted Values": 63.10855102676982
         },
         {
          "Actual Values": 65.7,
          "Predicted Values": 62.9155787830872
         },
         {
          "Actual Values": 58.22,
          "Predicted Values": 64.26630552214917
         },
         {
          "Actual Values": 60.1,
          "Predicted Values": 63.364320125674546
         },
         {
          "Actual Values": 60.2,
          "Predicted Values": 64.30319997469448
         },
         {
          "Actual Values": 66.2,
          "Predicted Values": 60.27948670480956
         },
         {
          "Actual Values": 66.52,
          "Predicted Values": 59.89480048820422
         },
         {
          "Actual Values": 66.6,
          "Predicted Values": 60.29679515191958
         },
         {
          "Actual Values": 66.7,
          "Predicted Values": 61.39765089816657
         },
         {
          "Actual Values": 66.9,
          "Predicted Values": 61.38094430059803
         },
         {
          "Actual Values": 67,
          "Predicted Values": 61.47021901967017
         },
         {
          "Actual Values": 67.1,
          "Predicted Values": 61.22502374386629
         },
         {
          "Actual Values": 62.66,
          "Predicted Values": 64.58320642876545
         },
         {
          "Actual Values": 63.7,
          "Predicted Values": 58.139347393189105
         },
         {
          "Actual Values": 63.9,
          "Predicted Values": 58.291514498443625
         },
         {
          "Actual Values": 51.3,
          "Predicted Values": 59.98441369877138
         },
         {
          "Actual Values": 58.16,
          "Predicted Values": 57.29611301172746
         },
         {
          "Actual Values": 59.6,
          "Predicted Values": 59.971989974367816
         },
         {
          "Actual Values": 61.225,
          "Predicted Values": 61.414871310133854
         },
         {
          "Actual Values": 59.72,
          "Predicted Values": 59.36698884238366
         },
         {
          "Actual Values": 59.9,
          "Predicted Values": 60.19150694749444
         },
         {
          "Actual Values": 59.96,
          "Predicted Values": 60.37032578028918
         },
         {
          "Actual Values": 60.14,
          "Predicted Values": 60.39665704498579
         },
         {
          "Actual Values": 70.94,
          "Predicted Values": 68.03453970995866
         },
         {
          "Actual Values": 71.06,
          "Predicted Values": 66.58943287550373
         },
         {
          "Actual Values": 71.1,
          "Predicted Values": 66.79095227801575
         },
         {
          "Actual Values": 71.325,
          "Predicted Values": 68.44068442128159
         },
         {
          "Actual Values": 71.55,
          "Predicted Values": 66.9160976875118
         },
         {
          "Actual Values": 70.2,
          "Predicted Values": 69.3791312979148
         },
         {
          "Actual Values": 70.35,
          "Predicted Values": 68.73748972821835
         },
         {
          "Actual Values": 70.425,
          "Predicted Values": 68.08858711567115
         },
         {
          "Actual Values": 64.4,
          "Predicted Values": 64.01804525629845
         },
         {
          "Actual Values": 64.8,
          "Predicted Values": 63.40327340936731
         },
         {
          "Actual Values": 65.2,
          "Predicted Values": 63.19209083193366
         },
         {
          "Actual Values": 65.65,
          "Predicted Values": 65.50038205062529
         },
         {
          "Actual Values": 65.725,
          "Predicted Values": 65.39446621048215
         },
         {
          "Actual Values": 51.46,
          "Predicted Values": 67.35314552003318
         },
         {
          "Actual Values": 51.9,
          "Predicted Values": 65.1107520877529
         },
         {
          "Actual Values": 53.22,
          "Predicted Values": 63.519074622090535
         },
         {
          "Actual Values": 54.1,
          "Predicted Values": 63.012879535486675
         },
         {
          "Actual Values": 54.45,
          "Predicted Values": 60.20559970204583
         },
         {
          "Actual Values": 55.15,
          "Predicted Values": 58.638004819439494
         },
         {
          "Actual Values": 50.22,
          "Predicted Values": 62.68168543982966
         },
         {
          "Actual Values": 50.54,
          "Predicted Values": 62.66577966467679
         },
         {
          "Actual Values": 52.14,
          "Predicted Values": 63.432742464464944
         },
         {
          "Actual Values": 53.425,
          "Predicted Values": 63.346212110909555
         },
         {
          "Actual Values": 53.75,
          "Predicted Values": 62.2226782751068
         },
         {
          "Actual Values": 54.075,
          "Predicted Values": 62.95424454942804
         },
         {
          "Actual Values": 55.05,
          "Predicted Values": 62.391502041705536
         },
         {
          "Actual Values": 64.82,
          "Predicted Values": 58.41715606446865
         },
         {
          "Actual Values": 64.9,
          "Predicted Values": 58.28222701041452
         },
         {
          "Actual Values": 65.3,
          "Predicted Values": 61.004965147760544
         },
         {
          "Actual Values": 66.3,
          "Predicted Values": 59.27344380738815
         },
         {
          "Actual Values": 66.7,
          "Predicted Values": 61.64786145925086
         },
         {
          "Actual Values": 69.8,
          "Predicted Values": 69.54142314642458
         },
         {
          "Actual Values": 71.25,
          "Predicted Values": 69.24549591074903
         },
         {
          "Actual Values": 71.3,
          "Predicted Values": 69.30897396221091
         },
         {
          "Actual Values": 71.45,
          "Predicted Values": 69.92194757560986
         },
         {
          "Actual Values": 71.5,
          "Predicted Values": 69.21473569304942
         },
         {
          "Actual Values": 54.24,
          "Predicted Values": 54.252692052639105
         },
         {
          "Actual Values": 54.76,
          "Predicted Values": 53.9548384309131
         },
         {
          "Actual Values": 55.8,
          "Predicted Values": 56.621408001703045
         },
         {
          "Actual Values": 56.35,
          "Predicted Values": 59.76589325501409
         },
         {
          "Actual Values": 57.45,
          "Predicted Values": 59.148915875393946
         },
         {
          "Actual Values": 67.66,
          "Predicted Values": 66.71994257882221
         },
         {
          "Actual Values": 68.14,
          "Predicted Values": 65.66225331510981
         },
         {
          "Actual Values": 68.7,
          "Predicted Values": 67.19229810023539
         },
         {
          "Actual Values": 64.96,
          "Predicted Values": 63.90460406815029
         },
         {
          "Actual Values": 65.52,
          "Predicted Values": 67.55255704510752
         },
         {
          "Actual Values": 65.65,
          "Predicted Values": 68.23622588969216
         },
         {
          "Actual Values": 66.98,
          "Predicted Values": 60.97409219463623
         },
         {
          "Actual Values": 67.76,
          "Predicted Values": 62.69835535291113
         },
         {
          "Actual Values": 68.02,
          "Predicted Values": 60.777838155872445
         },
         {
          "Actual Values": 69.325,
          "Predicted Values": 63.73369901690961
         },
         {
          "Actual Values": 69.85,
          "Predicted Values": 63.040249747686495
         },
         {
          "Actual Values": 61.48,
          "Predicted Values": 62.12642493542185
         },
         {
          "Actual Values": 61.66,
          "Predicted Values": 62.929526840886076
         },
         {
          "Actual Values": 61.9,
          "Predicted Values": 64.82501896152681
         },
         {
          "Actual Values": 61.925,
          "Predicted Values": 65.21906611954357
         },
         {
          "Actual Values": 62.05,
          "Predicted Values": 64.01626441898338
         },
         {
          "Actual Values": 66.56,
          "Predicted Values": 64.78474180127036
         },
         {
          "Actual Values": 67.1,
          "Predicted Values": 65.50322219722379
         },
         {
          "Actual Values": 67.28,
          "Predicted Values": 65.56805448517211
         },
         {
          "Actual Values": 68,
          "Predicted Values": 65.17211361107739
         },
         {
          "Actual Values": 68.7,
          "Predicted Values": 67.6858724425696
         },
         {
          "Actual Values": 69.3,
          "Predicted Values": 63.75706129674191
         },
         {
          "Actual Values": 69.54,
          "Predicted Values": 64.56862655929079
         },
         {
          "Actual Values": 70.625,
          "Predicted Values": 64.76233423685544
         },
         {
          "Actual Values": 70.75,
          "Predicted Values": 65.12567010291109
         },
         {
          "Actual Values": 64.36,
          "Predicted Values": 66.74823743600977
         },
         {
          "Actual Values": 65.58,
          "Predicted Values": 60.38448339863457
         },
         {
          "Actual Values": 65.76,
          "Predicted Values": 59.46923163259495
         },
         {
          "Actual Values": 66.55,
          "Predicted Values": 64.26610735135152
         },
         {
          "Actual Values": 66.925,
          "Predicted Values": 65.09267368375959
         },
         {
          "Actual Values": 59.18,
          "Predicted Values": 64.51259720649297
         },
         {
          "Actual Values": 61.82,
          "Predicted Values": 65.35379410916175
         },
         {
          "Actual Values": 62.26,
          "Predicted Values": 67.2677800547385
         },
         {
          "Actual Values": 62.7,
          "Predicted Values": 66.34751536769888
         },
         {
          "Actual Values": 64.2,
          "Predicted Values": 65.48586985520188
         },
         {
          "Actual Values": 64.95,
          "Predicted Values": 63.66587315131691
         },
         {
          "Actual Values": 55.3,
          "Predicted Values": 63.765622024246206
         },
         {
          "Actual Values": 58.9,
          "Predicted Values": 66.44278670764167
         },
         {
          "Actual Values": 59.55,
          "Predicted Values": 61.58166232070174
         },
         {
          "Actual Values": 56.1,
          "Predicted Values": 61.662869881687
         },
         {
          "Actual Values": 57.6,
          "Predicted Values": 64.42558937660958
         },
         {
          "Actual Values": 58.2,
          "Predicted Values": 63.40072570509946
         },
         {
          "Actual Values": 59.7,
          "Predicted Values": 61.777418286945384
         },
         {
          "Actual Values": 60.3,
          "Predicted Values": 60.54982313316488
         },
         {
          "Actual Values": 65.28,
          "Predicted Values": 60.519040699701705
         },
         {
          "Actual Values": 65.84,
          "Predicted Values": 57.71073811076942
         },
         {
          "Actual Values": 65.98,
          "Predicted Values": 58.76452493199855
         },
         {
          "Actual Values": 66.525,
          "Predicted Values": 61.95552528540382
         },
         {
          "Actual Values": 46.28,
          "Predicted Values": 56.14576840389773
         },
         {
          "Actual Values": 49.32,
          "Predicted Values": 62.21040861089938
         },
         {
          "Actual Values": 54.5,
          "Predicted Values": 55.6415377464186
         },
         {
          "Actual Values": 72.84,
          "Predicted Values": 67.24173810472686
         },
         {
          "Actual Values": 73.02,
          "Predicted Values": 68.03607133974775
         },
         {
          "Actual Values": 73.3,
          "Predicted Values": 71.10142433228745
         },
         {
          "Actual Values": 66.5,
          "Predicted Values": 63.530079285791984
         },
         {
          "Actual Values": 67.6,
          "Predicted Values": 63.909532289511134
         },
         {
          "Actual Values": 67.825,
          "Predicted Values": 65.14875634915755
         },
         {
          "Actual Values": 68.56,
          "Predicted Values": 65.2206519662852
         },
         {
          "Actual Values": 69.2,
          "Predicted Values": 64.22580358174113
         },
         {
          "Actual Values": 69.36,
          "Predicted Values": 64.66781892221046
         },
         {
          "Actual Values": 70,
          "Predicted Values": 64.72093637462827
         },
         {
          "Actual Values": 70.875,
          "Predicted Values": 65.55589169047572
         },
         {
          "Actual Values": 71.225,
          "Predicted Values": 65.70269189977422
         },
         {
          "Actual Values": 46.9,
          "Predicted Values": 63.89352345112845
         },
         {
          "Actual Values": 49.6,
          "Predicted Values": 67.98740386895393
         },
         {
          "Actual Values": 53.2,
          "Predicted Values": 65.72343894335576
         },
         {
          "Actual Values": 55.675,
          "Predicted Values": 63.954975733682744
         },
         {
          "Actual Values": 70.24,
          "Predicted Values": 63.40948730867827
         },
         {
          "Actual Values": 70.9,
          "Predicted Values": 64.92378235793103
         },
         {
          "Actual Values": 71.78,
          "Predicted Values": 60.72004890840312
         },
         {
          "Actual Values": 72,
          "Predicted Values": 61.4830800519449
         },
         {
          "Actual Values": 72.275,
          "Predicted Values": 61.78752454896392
         },
         {
          "Actual Values": 73.375,
          "Predicted Values": 63.68115528690612
         },
         {
          "Actual Values": 73.65,
          "Predicted Values": 63.692769695832745
         },
         {
          "Actual Values": 70.64,
          "Predicted Values": 66.32784614004665
         },
         {
          "Actual Values": 71,
          "Predicted Values": 65.01360818496543
         },
         {
          "Actual Values": 71.36,
          "Predicted Values": 63.360097762187245
         },
         {
          "Actual Values": 71.6,
          "Predicted Values": 65.35970011121105
         },
         {
          "Actual Values": 71.85,
          "Predicted Values": 63.78675946544358
         },
         {
          "Actual Values": 72.225,
          "Predicted Values": 65.39410191830802
         },
         {
          "Actual Values": 62.76,
          "Predicted Values": 62.82997412156642
         },
         {
          "Actual Values": 65.16,
          "Predicted Values": 64.26303312507235
         },
         {
          "Actual Values": 65.64,
          "Predicted Values": 63.513267845056895
         },
         {
          "Actual Values": 66.6,
          "Predicted Values": 63.98436791490571
         },
         {
          "Actual Values": 67.2,
          "Predicted Values": 62.92225778750649
         },
         {
          "Actual Values": 57.7,
          "Predicted Values": 64.02052608462111
         },
         {
          "Actual Values": 58.18,
          "Predicted Values": 61.305179497388785
         },
         {
          "Actual Values": 58.66,
          "Predicted Values": 59.72979890940199
         },
         {
          "Actual Values": 71.12,
          "Predicted Values": 69.74258578413809
         },
         {
          "Actual Values": 71.16,
          "Predicted Values": 68.52009142466872
         },
         {
          "Actual Values": 71.525,
          "Predicted Values": 68.81624161795055
         },
         {
          "Actual Values": 71.65,
          "Predicted Values": 69.2298772970573
         },
         {
          "Actual Values": 71.775,
          "Predicted Values": 70.04879964229087
         },
         {
          "Actual Values": 71.9,
          "Predicted Values": 69.67312547800945
         },
         {
          "Actual Values": 71.16,
          "Predicted Values": 67.58896315667928
         },
         {
          "Actual Values": 71.9,
          "Predicted Values": 69.16794176315933
         },
         {
          "Actual Values": 73.1,
          "Predicted Values": 68.14686390307357
         },
         {
          "Actual Values": 63.34,
          "Predicted Values": 54.074398430065976
         },
         {
          "Actual Values": 56.3,
          "Predicted Values": 49.726056954303274
         },
         {
          "Actual Values": 69.14,
          "Predicted Values": 64.474186644826
         },
         {
          "Actual Values": 60.5,
          "Predicted Values": 62.269455026008224
         },
         {
          "Actual Values": 60.8,
          "Predicted Values": 61.0121573218477
         },
         {
          "Actual Values": 61.55,
          "Predicted Values": 64.44987757916233
         },
         {
          "Actual Values": 61.7,
          "Predicted Values": 60.625114138713776
         },
         {
          "Actual Values": 50.76,
          "Predicted Values": 65.04486111571066
         },
         {
          "Actual Values": 52.74,
          "Predicted Values": 62.44951182075379
         },
         {
          "Actual Values": 55.38,
          "Predicted Values": 63.265349311856426
         },
         {
          "Actual Values": 56.7,
          "Predicted Values": 62.29328466242037
         },
         {
          "Actual Values": 57.6,
          "Predicted Values": 62.18144223150025
         },
         {
          "Actual Values": 58.5,
          "Predicted Values": 62.887069223432626
         },
         {
          "Actual Values": 66.38,
          "Predicted Values": 64.49698056362321
         },
         {
          "Actual Values": 66.56,
          "Predicted Values": 64.30880522814968
         },
         {
          "Actual Values": 66.92,
          "Predicted Values": 63.93274716024502
         },
         {
          "Actual Values": 67.46,
          "Predicted Values": 64.6817996926684
         },
         {
          "Actual Values": 68.075,
          "Predicted Values": 64.79503852427065
         },
         {
          "Actual Values": 68.45,
          "Predicted Values": 62.256364700247765
         },
         {
          "Actual Values": 50.24,
          "Predicted Values": 55.454603200696184
         },
         {
          "Actual Values": 51.12,
          "Predicted Values": 49.85711633759918
         },
         {
          "Actual Values": 54.2,
          "Predicted Values": 56.97798739945956
         },
         {
          "Actual Values": 54.7,
          "Predicted Values": 55.55796852223715
         },
         {
          "Actual Values": 56.2,
          "Predicted Values": 55.826064889785115
         },
         {
          "Actual Values": 57.7,
          "Predicted Values": 57.491695405607935
         },
         {
          "Actual Values": 64.44,
          "Predicted Values": 63.69034710739661
         },
         {
          "Actual Values": 66.3,
          "Predicted Values": 64.70375130381903
         },
         {
          "Actual Values": 66.62,
          "Predicted Values": 59.508736940217226
         },
         {
          "Actual Values": 66.85,
          "Predicted Values": 60.18719681536218
         },
         {
          "Actual Values": 67,
          "Predicted Values": 59.014531474849036
         },
         {
          "Actual Values": 66.9,
          "Predicted Values": 60.88260682756219
         },
         {
          "Actual Values": 68.05,
          "Predicted Values": 62.97352470303165
         },
         {
          "Actual Values": 68.75,
          "Predicted Values": 55.300049766015924
         },
         {
          "Actual Values": 50.42,
          "Predicted Values": 62.398885463683634
         },
         {
          "Actual Values": 51.26,
          "Predicted Values": 62.93520985439871
         },
         {
          "Actual Values": 52.1,
          "Predicted Values": 63.530784546601325
         },
         {
          "Actual Values": 52.94,
          "Predicted Values": 63.61396323696624
         },
         {
          "Actual Values": 53.78,
          "Predicted Values": 63.295118004293386
         },
         {
          "Actual Values": 54.62,
          "Predicted Values": 62.545441395184774
         },
         {
          "Actual Values": 57.25,
          "Predicted Values": 60.19153409898225
         },
         {
          "Actual Values": 57.725,
          "Predicted Values": 59.78173793769818
         },
         {
          "Actual Values": 59.15,
          "Predicted Values": 60.97190563217082
         },
         {
          "Actual Values": 61.24,
          "Predicted Values": 62.53966399665686
         },
         {
          "Actual Values": 61.88,
          "Predicted Values": 62.89612899357125
         },
         {
          "Actual Values": 62.52,
          "Predicted Values": 63.35084537145244
         },
         {
          "Actual Values": 63.48,
          "Predicted Values": 61.24921677407586
         },
         {
          "Actual Values": 64.175,
          "Predicted Values": 63.54984220304766
         },
         {
          "Actual Values": 64.3,
          "Predicted Values": 64.19644231189116
         },
         {
          "Actual Values": 64.675,
          "Predicted Values": 59.092445088107894
         },
         {
          "Actual Values": 65.04,
          "Predicted Values": 66.87200608710125
         },
         {
          "Actual Values": 69.46,
          "Predicted Values": 67.59094631849011
         },
         {
          "Actual Values": 69.52,
          "Predicted Values": 67.0432623423806
         },
         {
          "Actual Values": 69.64,
          "Predicted Values": 65.39101534738751
         },
         {
          "Actual Values": 70.1,
          "Predicted Values": 66.2842230411244
         },
         {
          "Actual Values": 66.74,
          "Predicted Values": 66.34543161071223
         },
         {
          "Actual Values": 66.62,
          "Predicted Values": 64.91052722401136
         },
         {
          "Actual Values": 66.35,
          "Predicted Values": 65.3991584241962
         },
         {
          "Actual Values": 66.225,
          "Predicted Values": 64.9025266844226
         },
         {
          "Actual Values": 65.975,
          "Predicted Values": 65.83948823538353
         },
         {
          "Actual Values": 67.26,
          "Predicted Values": 66.06665151568797
         },
         {
          "Actual Values": 67.42,
          "Predicted Values": 68.01181735506869
         },
         {
          "Actual Values": 67.5,
          "Predicted Values": 67.05626947149285
         },
         {
          "Actual Values": 67.5,
          "Predicted Values": 68.49408427803466
         },
         {
          "Actual Values": 67.5,
          "Predicted Values": 66.96314029063599
         },
         {
          "Actual Values": 63.02,
          "Predicted Values": 70.40045155436667
         },
         {
          "Actual Values": 64.4,
          "Predicted Values": 66.86140818165995
         },
         {
          "Actual Values": 64.7,
          "Predicted Values": 66.77471192979883
         },
         {
          "Actual Values": 65.46,
          "Predicted Values": 68.56229115562624
         },
         {
          "Actual Values": 65.38,
          "Predicted Values": 67.23613856643225
         },
         {
          "Actual Values": 65.3,
          "Predicted Values": 69.12825907484854
         },
         {
          "Actual Values": 65.26,
          "Predicted Values": 68.27878912718803
         },
         {
          "Actual Values": 65.1,
          "Predicted Values": 65.30482206373618
         },
         {
          "Actual Values": 64.575,
          "Predicted Values": 61.73203671567295
         },
         {
          "Actual Values": 65.4,
          "Predicted Values": 63.264684993556344
         },
         {
          "Actual Values": 58.64,
          "Predicted Values": 59.42578167938953
         },
         {
          "Actual Values": 58.52,
          "Predicted Values": 60.53433610889219
         },
         {
          "Actual Values": 58.44,
          "Predicted Values": 59.765540908416476
         },
         {
          "Actual Values": 57.725,
          "Predicted Values": 60.119883302723395
         },
         {
          "Actual Values": 46.76,
          "Predicted Values": 63.503381659481505
         },
         {
          "Actual Values": 48.74,
          "Predicted Values": 64.64881887322953
         },
         {
          "Actual Values": 50.72,
          "Predicted Values": 63.18956853620662
         },
         {
          "Actual Values": 51.38,
          "Predicted Values": 63.29612022329721
         },
         {
          "Actual Values": 52.7,
          "Predicted Values": 59.610817482696966
         },
         {
          "Actual Values": 53.55,
          "Predicted Values": 60.430875563638956
         },
         {
          "Actual Values": 53.975,
          "Predicted Values": 60.58604954842498
         },
         {
          "Actual Values": 47.6,
          "Predicted Values": 63.862884517110565
         },
         {
          "Actual Values": 51.675,
          "Predicted Values": 64.20735738331139
         },
         {
          "Actual Values": 52.15,
          "Predicted Values": 64.11529588099592
         },
         {
          "Actual Values": 53.575,
          "Predicted Values": 60.125073430332854
         },
         {
          "Actual Values": 54.05,
          "Predicted Values": 61.57567706299139
         },
         {
          "Actual Values": 54.525,
          "Predicted Values": 62.12964933540024
         }
        ]
       },
       "encoding": {
        "x": {
         "field": "Actual Values",
         "type": "quantitative"
        },
        "y": {
         "field": "Predicted Values",
         "type": "quantitative"
        }
       },
       "mark": {
        "type": "circle"
       },
       "title": "Actual vs Predicted Values (PC Data)"
      },
      "image/png": "[encoded data removed]",
      "text/plain": [
       "<VegaLite 5 object>\n",
       "\n",
       "If you see this message, it means the renderer has not been properly enabled\n",
       "for the frontend that you are using. For more information, see\n",
       "https://altair-viz.github.io/user_guide/display_frontends.html#troubleshooting\n"
      ]
     },
     "execution_count": 302,
     "metadata": {},
     "output_type": "execute_result"
    }
   ],
   "source": [
    "# Prediction results pc data\n",
    "x_test_pc = sm.tools.add_constant(test_pc.iloc[:, 0:3])\n",
    "y_test_pc = test_pc.loc[:, 'HLE at Birth']\n",
    "\n",
    "pred_pc = result_pc.predict(x_test_pc)\n",
    "\n",
    "pred_pc_df = pd.DataFrame({'Actual Values': y_test_pc, 'Predicted Values': pred_pc})\n",
    "\n",
    "# Plot\n",
    "plot_pc = alt.Chart(pred_pc_df).mark_circle().encode(\n",
    "    x='Actual Values',\n",
    "    y='Predicted Values'\n",
    ").properties(\n",
    "    title='Actual vs Predicted Values (PC Data)'\n",
    ")\n",
    "\n",
    "plot_pc"
   ]
  },
  {
   "cell_type": "code",
   "execution_count": 303,
   "id": "0eee26cf-e30b-402f-9345-f56a9083ed16",
   "metadata": {},
   "outputs": [
    {
     "data": {
      "application/vnd.vegalite.v5+json": {
       "$schema": "https://vega.github.io/schema/vega-lite/v5.15.1.json",
       "config": {
        "view": {
         "continuousHeight": 300,
         "continuousWidth": 300
        }
       },
       "data": {
        "name": "data-3776ccc6150471c9b0df0dbc3db5bcd8"
       },
       "datasets": {
        "data-3776ccc6150471c9b0df0dbc3db5bcd8": [
         {
          "Actual Values": 51.7,
          "Predicted Values": 49.65477711921262
         },
         {
          "Actual Values": 52.6,
          "Predicted Values": 50.74450668514482
         },
         {
          "Actual Values": 67.6,
          "Predicted Values": 60.787303131359266
         },
         {
          "Actual Values": 69,
          "Predicted Values": 57.69597703663751
         },
         {
          "Actual Values": 69.025,
          "Predicted Values": 57.06946203211252
         },
         {
          "Actual Values": 69.1,
          "Predicted Values": 58.7805513989562
         },
         {
          "Actual Values": 69.125,
          "Predicted Values": 58.92392266788502
         },
         {
          "Actual Values": 51.84,
          "Predicted Values": 59.04939130596666
         },
         {
          "Actual Values": 66.18,
          "Predicted Values": 64.43564729593336
         },
         {
          "Actual Values": 66.3,
          "Predicted Values": 65.23853806832521
         },
         {
          "Actual Values": 66.42,
          "Predicted Values": 65.86925052266358
         },
         {
          "Actual Values": 67.25,
          "Predicted Values": 66.67301564094298
         },
         {
          "Actual Values": 65.52,
          "Predicted Values": 61.79064101861886
         },
         {
          "Actual Values": 67.65,
          "Predicted Values": 66.9986781381569
         },
         {
          "Actual Values": 70.44,
          "Predicted Values": 67.80601509155537
         },
         {
          "Actual Values": 70.6,
          "Predicted Values": 69.60311298358734
         },
         {
          "Actual Values": 71.125,
          "Predicted Values": 68.8776223903648
         },
         {
          "Actual Values": 70.3,
          "Predicted Values": 66.19490483816168
         },
         {
          "Actual Values": 70.65,
          "Predicted Values": 67.12523722299248
         },
         {
          "Actual Values": 71.15,
          "Predicted Values": 65.97275064132458
         },
         {
          "Actual Values": 61.42,
          "Predicted Values": 58.93602949488603
         },
         {
          "Actual Values": 62.54,
          "Predicted Values": 62.5948510266946
         },
         {
          "Actual Values": 63.225,
          "Predicted Values": 63.20512486767222
         },
         {
          "Actual Values": 60.68,
          "Predicted Values": 52.13410827958965
         },
         {
          "Actual Values": 61.2,
          "Predicted Values": 54.1756359959984
         },
         {
          "Actual Values": 61.72,
          "Predicted Values": 57.09435330335984
         },
         {
          "Actual Values": 63.925,
          "Predicted Values": 60.03050567582825
         },
         {
          "Actual Values": 64.05,
          "Predicted Values": 62.1571067179078
         },
         {
          "Actual Values": 64.175,
          "Predicted Values": 64.2756066743618
         },
         {
          "Actual Values": 62.3,
          "Predicted Values": 67.49541321013987
         },
         {
          "Actual Values": 63.98,
          "Predicted Values": 68.21432320455689
         },
         {
          "Actual Values": 65.1,
          "Predicted Values": 66.52695952479756
         },
         {
          "Actual Values": 65.325,
          "Predicted Values": 67.37637323714758
         },
         {
          "Actual Values": 65.55,
          "Predicted Values": 67.03187151572625
         },
         {
          "Actual Values": 68.88,
          "Predicted Values": 68.28163865701765
         },
         {
          "Actual Values": 69.2,
          "Predicted Values": 66.89178994426354
         },
         {
          "Actual Values": 69.52,
          "Predicted Values": 67.47864008917868
         },
         {
          "Actual Values": 69.68,
          "Predicted Values": 67.71464564696598
         },
         {
          "Actual Values": 70,
          "Predicted Values": 67.5817645872542
         },
         {
          "Actual Values": 71.05,
          "Predicted Values": 68.98886595139854
         },
         {
          "Actual Values": 52.48,
          "Predicted Values": 47.601908799452616
         },
         {
          "Actual Values": 53.52,
          "Predicted Values": 52.721828800418756
         },
         {
          "Actual Values": 54.04,
          "Predicted Values": 52.481829840540584
         },
         {
          "Actual Values": 54.3,
          "Predicted Values": 50.97803950575824
         },
         {
          "Actual Values": 55.2,
          "Predicted Values": 55.22229943241159
         },
         {
          "Actual Values": 55.8,
          "Predicted Values": 55.5378904149041
         },
         {
          "Actual Values": 60.9,
          "Predicted Values": 66.50283483366194
         },
         {
          "Actual Values": 61.1,
          "Predicted Values": 63.7846040446518
         },
         {
          "Actual Values": 63.45,
          "Predicted Values": 64.7776321819249
         },
         {
          "Actual Values": 63.6,
          "Predicted Values": 65.25047964751214
         },
         {
          "Actual Values": 67,
          "Predicted Values": 57.766598634769785
         },
         {
          "Actual Values": 67,
          "Predicted Values": 60.21006715329756
         },
         {
          "Actual Values": 67,
          "Predicted Values": 56.54519635687509
         },
         {
          "Actual Values": 67.15,
          "Predicted Values": 62.259811661093934
         },
         {
          "Actual Values": 67.2,
          "Predicted Values": 63.44090357382911
         },
         {
          "Actual Values": 67.3,
          "Predicted Values": 63.475376327859706
         },
         {
          "Actual Values": 48.84,
          "Predicted Values": 66.80502381725199
         },
         {
          "Actual Values": 51.48,
          "Predicted Values": 62.88223759461198
         },
         {
          "Actual Values": 52.36,
          "Predicted Values": 65.49975649218122
         },
         {
          "Actual Values": 53.35,
          "Predicted Values": 63.7259621616899
         },
         {
          "Actual Values": 54.725,
          "Predicted Values": 61.66338924087473
         },
         {
          "Actual Values": 63.9,
          "Predicted Values": 67.23884765103301
         },
         {
          "Actual Values": 64.06,
          "Predicted Values": 68.38081573607312
         },
         {
          "Actual Values": 64.54,
          "Predicted Values": 66.51275837929155
         },
         {
          "Actual Values": 65.05,
          "Predicted Values": 67.75378334682958
         },
         {
          "Actual Values": 65.925,
          "Predicted Values": 67.23330181481482
         },
         {
          "Actual Values": 65.34,
          "Predicted Values": 64.91735683099705
         },
         {
          "Actual Values": 66.1,
          "Predicted Values": 66.29778757548227
         },
         {
          "Actual Values": 66.4,
          "Predicted Values": 65.71261996119402
         },
         {
          "Actual Values": 66.5,
          "Predicted Values": 65.35406177811697
         },
         {
          "Actual Values": 53.4,
          "Predicted Values": 61.14412416999728
         },
         {
          "Actual Values": 54.525,
          "Predicted Values": 58.805199783082195
         },
         {
          "Actual Values": 55.65,
          "Predicted Values": 58.31466079046951
         },
         {
          "Actual Values": 51.52,
          "Predicted Values": 46.65115574283263
         },
         {
          "Actual Values": 59.34,
          "Predicted Values": 59.889829207521714
         },
         {
          "Actual Values": 59.68,
          "Predicted Values": 56.21719619332298
         },
         {
          "Actual Values": 61.9,
          "Predicted Values": 61.95822587866197
         },
         {
          "Actual Values": 48.28,
          "Predicted Values": 57.571596845702274
         },
         {
          "Actual Values": 50.92,
          "Predicted Values": 60.979331709306656
         },
         {
          "Actual Values": 70.98,
          "Predicted Values": 69.2408387984097
         },
         {
          "Actual Values": 71.04,
          "Predicted Values": 68.69826768120737
         },
         {
          "Actual Values": 71.2,
          "Predicted Values": 69.64216892820247
         },
         {
          "Actual Values": 71.25,
          "Predicted Values": 70.31654881553223
         },
         {
          "Actual Values": 71.35,
          "Predicted Values": 70.9809650953728
         },
         {
          "Actual Values": 42.84,
          "Predicted Values": 48.383164028024474
         },
         {
          "Actual Values": 47.08,
          "Predicted Values": 54.9924673573604
         },
         {
          "Actual Values": 47.46,
          "Predicted Values": 46.21441620426548
         },
         {
          "Actual Values": 49.36,
          "Predicted Values": 57.53942280317939
         },
         {
          "Actual Values": 49.74,
          "Predicted Values": 58.871150201982374
         },
         {
          "Actual Values": 50.875,
          "Predicted Values": 57.43341107435511
         },
         {
          "Actual Values": 51.25,
          "Predicted Values": 61.332204138765775
         },
         {
          "Actual Values": 67.96,
          "Predicted Values": 62.612833987791
         },
         {
          "Actual Values": 69.55,
          "Predicted Values": 61.484881880928775
         },
         {
          "Actual Values": 70.15,
          "Predicted Values": 66.13138915467562
         },
         {
          "Actual Values": 70.3,
          "Predicted Values": 64.52390043848081
         },
         {
          "Actual Values": 66.54,
          "Predicted Values": 65.3414889384071
         },
         {
          "Actual Values": 66.98,
          "Predicted Values": 64.71866561662084
         },
         {
          "Actual Values": 67.64,
          "Predicted Values": 65.97524429333069
         },
         {
          "Actual Values": 68.475,
          "Predicted Values": 65.43837737107742
         },
         {
          "Actual Values": 69.175,
          "Predicted Values": 63.843239129603866
         },
         {
          "Actual Values": 56.76,
          "Predicted Values": 52.51503227530002
         },
         {
          "Actual Values": 57.24,
          "Predicted Values": 56.815580360117806
         },
         {
          "Actual Values": 57.48,
          "Predicted Values": 58.5279185905054
         },
         {
          "Actual Values": 53.76,
          "Predicted Values": 58.29568301058462
         },
         {
          "Actual Values": 56.2,
          "Predicted Values": 58.866660668754605
         },
         {
          "Actual Values": 50.9,
          "Predicted Values": 59.24693851378281
         },
         {
          "Actual Values": 51.4,
          "Predicted Values": 59.536535297581054
         },
         {
          "Actual Values": 68.72,
          "Predicted Values": 65.8949056179909
         },
         {
          "Actual Values": 69.52,
          "Predicted Values": 66.11325532107341
         },
         {
          "Actual Values": 70,
          "Predicted Values": 66.33992335418347
         },
         {
          "Actual Values": 70,
          "Predicted Values": 67.37907781151907
         },
         {
          "Actual Values": 70,
          "Predicted Values": 67.79087219791748
         },
         {
          "Actual Values": 70,
          "Predicted Values": 67.11887738965402
         },
         {
          "Actual Values": 67.3,
          "Predicted Values": 60.9261265610953
         },
         {
          "Actual Values": 68.425,
          "Predicted Values": 66.99463392467035
         },
         {
          "Actual Values": 70.8,
          "Predicted Values": 62.821266706489325
         },
         {
          "Actual Values": 71.12,
          "Predicted Values": 61.504333096839176
         },
         {
          "Actual Values": 71.8,
          "Predicted Values": 62.63204860226935
         },
         {
          "Actual Values": 67.34,
          "Predicted Values": 65.86822707400157
         },
         {
          "Actual Values": 67.7,
          "Predicted Values": 66.38076520577096
         },
         {
          "Actual Values": 68.06,
          "Predicted Values": 64.92682748172169
         },
         {
          "Actual Values": 68.3,
          "Predicted Values": 65.59057357531655
         },
         {
          "Actual Values": 68.55,
          "Predicted Values": 66.18680971594225
         },
         {
          "Actual Values": 69.05,
          "Predicted Values": 66.94014740235194
         },
         {
          "Actual Values": 69.18,
          "Predicted Values": 70.99760229125661
         },
         {
          "Actual Values": 69.84,
          "Predicted Values": 71.55178681834612
         },
         {
          "Actual Values": 70.06,
          "Predicted Values": 71.21302202474135
         },
         {
          "Actual Values": 70.28,
          "Predicted Values": 71.96485996986831
         },
         {
          "Actual Values": 71,
          "Predicted Values": 72.09575084224574
         },
         {
          "Actual Values": 71.125,
          "Predicted Values": 72.14986668179833
         },
         {
          "Actual Values": 71.25,
          "Predicted Values": 71.34040563168715
         },
         {
          "Actual Values": 64.64,
          "Predicted Values": 66.17908829285085
         },
         {
          "Actual Values": 63.92,
          "Predicted Values": 66.85020996408117
         },
         {
          "Actual Values": 63.68,
          "Predicted Values": 66.35456871937444
         },
         {
          "Actual Values": 64.4,
          "Predicted Values": 66.22772652597118
         },
         {
          "Actual Values": 64.44,
          "Predicted Values": 66.0361120133664
         },
         {
          "Actual Values": 65.12,
          "Predicted Values": 62.09906323862298
         },
         {
          "Actual Values": 66.48,
          "Predicted Values": 63.68589449821994
         },
         {
          "Actual Values": 66.82,
          "Predicted Values": 63.52023977935666
         },
         {
          "Actual Values": 67.5,
          "Predicted Values": 66.20508274644772
         },
         {
          "Actual Values": 68.25,
          "Predicted Values": 65.35605565169088
         },
         {
          "Actual Values": 68.75,
          "Predicted Values": 65.32732341504912
         },
         {
          "Actual Values": 69,
          "Predicted Values": 64.72702979238967
         },
         {
          "Actual Values": 69.25,
          "Predicted Values": 63.88122082359569
         },
         {
          "Actual Values": 61.7,
          "Predicted Values": 60.39103108587403
         },
         {
          "Actual Values": 61.76,
          "Predicted Values": 62.33985028068831
         },
         {
          "Actual Values": 61.82,
          "Predicted Values": 61.154919242868154
         },
         {
          "Actual Values": 62,
          "Predicted Values": 62.28637860398507
         },
         {
          "Actual Values": 63.5,
          "Predicted Values": 64.39148912989427
         },
         {
          "Actual Values": 64.94,
          "Predicted Values": 56.48882482737238
         },
         {
          "Actual Values": 63.86,
          "Predicted Values": 63.783494839899184
         },
         {
          "Actual Values": 65.25,
          "Predicted Values": 62.16123565936204
         },
         {
          "Actual Values": 65.6,
          "Predicted Values": 64.16411511872471
         },
         {
          "Actual Values": 65.78,
          "Predicted Values": 67.10000802637191
         },
         {
          "Actual Values": 66.34,
          "Predicted Values": 66.80797051158515
         },
         {
          "Actual Values": 66.62,
          "Predicted Values": 64.97849948825585
         },
         {
          "Actual Values": 68.525,
          "Predicted Values": 68.47240831714664
         },
         {
          "Actual Values": 57.64,
          "Predicted Values": 57.054412914871506
         },
         {
          "Actual Values": 58.7,
          "Predicted Values": 59.81499079504594
         },
         {
          "Actual Values": 59.1,
          "Predicted Values": 61.54612161054339
         },
         {
          "Actual Values": 59.5,
          "Predicted Values": 60.58373701200923
         },
         {
          "Actual Values": 61.1,
          "Predicted Values": 59.77776630755593
         },
         {
          "Actual Values": 70.925,
          "Predicted Values": 72.83954693047049
         },
         {
          "Actual Values": 71.15,
          "Predicted Values": 72.8381824939234
         },
         {
          "Actual Values": 71,
          "Predicted Values": 69.04260673628235
         },
         {
          "Actual Values": 71.4,
          "Predicted Values": 69.65411909412336
         },
         {
          "Actual Values": 71.5,
          "Predicted Values": 67.00853493806534
         },
         {
          "Actual Values": 71.9,
          "Predicted Values": 69.04564597531889
         },
         {
          "Actual Values": 54.46,
          "Predicted Values": 58.20131400080903
         },
         {
          "Actual Values": 56.625,
          "Predicted Values": 65.01962396176373
         },
         {
          "Actual Values": 57.6,
          "Predicted Values": 64.05625947623149
         },
         {
          "Actual Values": 57.925,
          "Predicted Values": 60.95449066738321
         },
         {
          "Actual Values": 58.25,
          "Predicted Values": 63.258736579736656
         },
         {
          "Actual Values": 57,
          "Predicted Values": 57.91352377820725
         },
         {
          "Actual Values": 63.3,
          "Predicted Values": 58.702247963051946
         },
         {
          "Actual Values": 63.4,
          "Predicted Values": 54.17071447451127
         },
         {
          "Actual Values": 63.7,
          "Predicted Values": 56.14329580404642
         },
         {
          "Actual Values": 64,
          "Predicted Values": 57.877040049234274
         },
         {
          "Actual Values": 64.2,
          "Predicted Values": 54.981346792757996
         },
         {
          "Actual Values": 64.325,
          "Predicted Values": 54.67372921722438
         },
         {
          "Actual Values": 64.7,
          "Predicted Values": 61.17883193422111
         },
         {
          "Actual Values": 65.075,
          "Predicted Values": 63.87257564761397
         },
         {
          "Actual Values": 70.02,
          "Predicted Values": 67.8299193349031
         },
         {
          "Actual Values": 70.3,
          "Predicted Values": 67.50035482548523
         },
         {
          "Actual Values": 70.9,
          "Predicted Values": 67.82201982214669
         },
         {
          "Actual Values": 71.5,
          "Predicted Values": 69.09155213457568
         },
         {
          "Actual Values": 53.86,
          "Predicted Values": 53.9143474766215
         },
         {
          "Actual Values": 55.62,
          "Predicted Values": 56.79130492005268
         },
         {
          "Actual Values": 56.06,
          "Predicted Values": 55.41273205480633
         },
         {
          "Actual Values": 69.76,
          "Predicted Values": 61.05587546450215
         },
         {
          "Actual Values": 69.92,
          "Predicted Values": 59.65750336466539
         },
         {
          "Actual Values": 70,
          "Predicted Values": 63.72792480313845
         },
         {
          "Actual Values": 70.9,
          "Predicted Values": 65.55808050916653
         },
         {
          "Actual Values": 58.98,
          "Predicted Values": 62.08790374000609
         },
         {
          "Actual Values": 60.66,
          "Predicted Values": 63.491417624827186
         },
         {
          "Actual Values": 61.22,
          "Predicted Values": 63.40705515932121
         },
         {
          "Actual Values": 61.5,
          "Predicted Values": 63.365232282857555
         },
         {
          "Actual Values": 61.7,
          "Predicted Values": 63.37594005306194
         },
         {
          "Actual Values": 62.9,
          "Predicted Values": 62.0980797808071
         },
         {
          "Actual Values": 51.02,
          "Predicted Values": 55.30093429284445
         },
         {
          "Actual Values": 53.3,
          "Predicted Values": 59.8977162143176
         },
         {
          "Actual Values": 54.2,
          "Predicted Values": 57.832247866416786
         },
         {
          "Actual Values": 33.32,
          "Predicted Values": 51.29044618441762
         },
         {
          "Actual Values": 43.96,
          "Predicted Values": 57.38434039378983
         },
         {
          "Actual Values": 49.28,
          "Predicted Values": 52.49285270711323
         },
         {
          "Actual Values": 54.9,
          "Predicted Values": 51.85695057269629
         },
         {
          "Actual Values": 62.9,
          "Predicted Values": 59.611053092822736
         },
         {
          "Actual Values": 62.7,
          "Predicted Values": 59.85881539160775
         },
         {
          "Actual Values": 61.7,
          "Predicted Values": 60.51407089467296
         },
         {
          "Actual Values": 61.5,
          "Predicted Values": 60.78324286899857
         },
         {
          "Actual Values": 62.575,
          "Predicted Values": 63.06559643647398
         },
         {
          "Actual Values": 63.85,
          "Predicted Values": 61.36957676171777
         },
         {
          "Actual Values": 65.96,
          "Predicted Values": 65.26992026910041
         },
         {
          "Actual Values": 66.12,
          "Predicted Values": 65.68053702319949
         },
         {
          "Actual Values": 66.6,
          "Predicted Values": 62.6076290377198
         },
         {
          "Actual Values": 67.5,
          "Predicted Values": 66.1195272371853
         },
         {
          "Actual Values": 71.2,
          "Predicted Values": 66.13879948156261
         },
         {
          "Actual Values": 71.7,
          "Predicted Values": 66.28377185375285
         },
         {
          "Actual Values": 71.95,
          "Predicted Values": 66.29106977252735
         },
         {
          "Actual Values": 72.05,
          "Predicted Values": 67.34785558614368
         },
         {
          "Actual Values": 56.22,
          "Predicted Values": 53.93801410211654
         },
         {
          "Actual Values": 56.94,
          "Predicted Values": 56.420666516413576
         },
         {
          "Actual Values": 59.7,
          "Predicted Values": 58.094144996854524
         },
         {
          "Actual Values": 61.42,
          "Predicted Values": 60.61933064439748
         },
         {
          "Actual Values": 62.08,
          "Predicted Values": 61.71182957534315
         },
         {
          "Actual Values": 62.55,
          "Predicted Values": 60.27608959905277
         },
         {
          "Actual Values": 62.675,
          "Predicted Values": 60.502563297864185
         },
         {
          "Actual Values": 63.175,
          "Predicted Values": 61.000605143415825
         },
         {
          "Actual Values": 64.72,
          "Predicted Values": 56.37368024081824
         },
         {
          "Actual Values": 65.14,
          "Predicted Values": 57.45558068558143
         },
         {
          "Actual Values": 66.45,
          "Predicted Values": 64.15936152843219
         },
         {
          "Actual Values": 66.75,
          "Predicted Values": 64.54032958202208
         },
         {
          "Actual Values": 60.94,
          "Predicted Values": 60.65499571881912
         },
         {
          "Actual Values": 60.82,
          "Predicted Values": 65.21823689558695
         },
         {
          "Actual Values": 61.75,
          "Predicted Values": 64.56731423957768
         },
         {
          "Actual Values": 69.62,
          "Predicted Values": 69.38842715691031
         },
         {
          "Actual Values": 70.22,
          "Predicted Values": 68.19066849074245
         },
         {
          "Actual Values": 71,
          "Predicted Values": 69.39500770003521
         },
         {
          "Actual Values": 71.3,
          "Predicted Values": 66.78120123609474
         },
         {
          "Actual Values": 71.24,
          "Predicted Values": 63.991586256800126
         },
         {
          "Actual Values": 71.32,
          "Predicted Values": 65.65850929577677
         },
         {
          "Actual Values": 71.4,
          "Predicted Values": 64.18125520819277
         },
         {
          "Actual Values": 71.95,
          "Predicted Values": 65.41672475607533
         },
         {
          "Actual Values": 72.1,
          "Predicted Values": 66.55599494835397
         },
         {
          "Actual Values": 72.55,
          "Predicted Values": 69.68960941068437
         },
         {
          "Actual Values": 72.7,
          "Predicted Values": 67.58062988849855
         },
         {
          "Actual Values": 72.85,
          "Predicted Values": 68.33493557337974
         },
         {
          "Actual Values": 70.8,
          "Predicted Values": 65.1420426312872
         },
         {
          "Actual Values": 71.4,
          "Predicted Values": 65.12911562478656
         },
         {
          "Actual Values": 72.125,
          "Predicted Values": 65.01654463243729
         },
         {
          "Actual Values": 52.5,
          "Predicted Values": 61.54424047627578
         },
         {
          "Actual Values": 53.65,
          "Predicted Values": 59.287590911746534
         },
         {
          "Actual Values": 54.8,
          "Predicted Values": 60.54013038574362
         },
         {
          "Actual Values": 66.6,
          "Predicted Values": 62.92646024867023
         },
         {
          "Actual Values": 66.6,
          "Predicted Values": 64.70589904216796
         },
         {
          "Actual Values": 66.6,
          "Predicted Values": 64.6248955126605
         },
         {
          "Actual Values": 66.6,
          "Predicted Values": 65.82681936928655
         },
         {
          "Actual Values": 66.6,
          "Predicted Values": 64.46987589839614
         },
         {
          "Actual Values": 72.64,
          "Predicted Values": 66.88865041775333
         },
         {
          "Actual Values": 73,
          "Predicted Values": 64.88406524782243
         },
         {
          "Actual Values": 73.975,
          "Predicted Values": 66.30897296430952
         },
         {
          "Actual Values": 66.52,
          "Predicted Values": 67.38277281037361
         },
         {
          "Actual Values": 58.6,
          "Predicted Values": 64.76197962927482
         },
         {
          "Actual Values": 59.8,
          "Predicted Values": 65.38966210683608
         },
         {
          "Actual Values": 60.4,
          "Predicted Values": 65.15864745693021
         },
         {
          "Actual Values": 61.6,
          "Predicted Values": 65.10200187974694
         },
         {
          "Actual Values": 62.2,
          "Predicted Values": 65.10678289598411
         },
         {
          "Actual Values": 63.8,
          "Predicted Values": 66.35485610866911
         },
         {
          "Actual Values": 64.2,
          "Predicted Values": 65.00614530684312
         },
         {
          "Actual Values": 65,
          "Predicted Values": 67.05382504648067
         },
         {
          "Actual Values": 55.06,
          "Predicted Values": 59.16175520112782
         },
         {
          "Actual Values": 57.3,
          "Predicted Values": 56.73777111596048
         },
         {
          "Actual Values": 57.7,
          "Predicted Values": 56.246683027548
         },
         {
          "Actual Values": 69,
          "Predicted Values": 67.93396091361497
         },
         {
          "Actual Values": 61.18,
          "Predicted Values": 62.71999642701923
         },
         {
          "Actual Values": 62.02,
          "Predicted Values": 63.829754404114915
         },
         {
          "Actual Values": 63.28,
          "Predicted Values": 62.34106075342971
         },
         {
          "Actual Values": 65.8,
          "Predicted Values": 65.09729628296724
         },
         {
          "Actual Values": 66.85,
          "Predicted Values": 65.11438220269531
         },
         {
          "Actual Values": 55.88,
          "Predicted Values": 60.202589407068196
         },
         {
          "Actual Values": 56.64,
          "Predicted Values": 61.47325428069917
         },
         {
          "Actual Values": 60.2,
          "Predicted Values": 61.523034157348995
         },
         {
          "Actual Values": 60.5,
          "Predicted Values": 62.357867251470005
         },
         {
          "Actual Values": 60.8,
          "Predicted Values": 59.5040172075121
         },
         {
          "Actual Values": 63.1,
          "Predicted Values": 64.35913377018238
         },
         {
          "Actual Values": 64.6,
          "Predicted Values": 60.93672843101275
         },
         {
          "Actual Values": 65.2,
          "Predicted Values": 62.276557670080415
         },
         {
          "Actual Values": 65.5,
          "Predicted Values": 64.43980739515247
         },
         {
          "Actual Values": 65.8,
          "Predicted Values": 64.71572291242633
         },
         {
          "Actual Values": 66.4,
          "Predicted Values": 66.83345811091598
         },
         {
          "Actual Values": 65.58,
          "Predicted Values": 61.182494777764006
         },
         {
          "Actual Values": 66.225,
          "Predicted Values": 55.29010309257911
         },
         {
          "Actual Values": 41.52,
          "Predicted Values": 60.35640010978209
         },
         {
          "Actual Values": 42.9,
          "Predicted Values": 61.314984239317766
         },
         {
          "Actual Values": 44.2,
          "Predicted Values": 61.09456319444202
         },
         {
          "Actual Values": 63.7,
          "Predicted Values": 67.28424420238412
         },
         {
          "Actual Values": 63.9,
          "Predicted Values": 66.58805179850323
         },
         {
          "Actual Values": 65.1,
          "Predicted Values": 65.23533478091936
         },
         {
          "Actual Values": 67.05,
          "Predicted Values": 67.96239763087264
         },
         {
          "Actual Values": 67.75,
          "Predicted Values": 67.6360282879712
         },
         {
          "Actual Values": 70.3,
          "Predicted Values": 70.37078152207302
         },
         {
          "Actual Values": 71.3,
          "Predicted Values": 67.07851901310852
         },
         {
          "Actual Values": 71.55,
          "Predicted Values": 68.90643065212905
         },
         {
          "Actual Values": 54.62,
          "Predicted Values": 58.17542751255377
         },
         {
          "Actual Values": 55.82,
          "Predicted Values": 54.87846609767308
         },
         {
          "Actual Values": 56.06,
          "Predicted Values": 54.09074219000812
         },
         {
          "Actual Values": 56.55,
          "Predicted Values": 57.441777144479246
         },
         {
          "Actual Values": 57.05,
          "Predicted Values": 56.228955707918274
         },
         {
          "Actual Values": 58.05,
          "Predicted Values": 55.87832973628843
         },
         {
          "Actual Values": 51.72,
          "Predicted Values": 51.27623945913384
         },
         {
          "Actual Values": 52.78,
          "Predicted Values": 52.308299131704686
         },
         {
          "Actual Values": 56.55,
          "Predicted Values": 55.214575004946326
         },
         {
          "Actual Values": 65.16,
          "Predicted Values": 63.05801075537735
         },
         {
          "Actual Values": 65.4,
          "Predicted Values": 61.46438030251392
         },
         {
          "Actual Values": 65.56,
          "Predicted Values": 62.031454301679005
         },
         {
          "Actual Values": 51.3,
          "Predicted Values": 57.952878791167706
         },
         {
          "Actual Values": 52.32,
          "Predicted Values": 61.196666572127505
         },
         {
          "Actual Values": 53.8,
          "Predicted Values": 62.12528337610025
         },
         {
          "Actual Values": 54.2,
          "Predicted Values": 59.99341342049424
         },
         {
          "Actual Values": 55.4,
          "Predicted Values": 55.63996199429791
         },
         {
          "Actual Values": 71.12,
          "Predicted Values": 69.84547741657538
         },
         {
          "Actual Values": 71.55,
          "Predicted Values": 72.92133587229576
         },
         {
          "Actual Values": 56.8,
          "Predicted Values": 53.77642936048951
         },
         {
          "Actual Values": 57.1,
          "Predicted Values": 60.23934087797956
         },
         {
          "Actual Values": 59.575,
          "Predicted Values": 61.31864082892637
         },
         {
          "Actual Values": 59.8,
          "Predicted Values": 61.79688556252376
         },
         {
          "Actual Values": 60.475,
          "Predicted Values": 59.11030271954871
         },
         {
          "Actual Values": 65.24,
          "Predicted Values": 64.11122616456355
         },
         {
          "Actual Values": 65.38,
          "Predicted Values": 62.840816535863254
         },
         {
          "Actual Values": 65.66,
          "Predicted Values": 62.23152962573692
         },
         {
          "Actual Values": 60.24,
          "Predicted Values": 64.27209594253493
         },
         {
          "Actual Values": 60.62,
          "Predicted Values": 63.694154677972286
         },
         {
          "Actual Values": 61.76,
          "Predicted Values": 62.53997713609532
         },
         {
          "Actual Values": 62.14,
          "Predicted Values": 61.53634099984525
         },
         {
          "Actual Values": 64.1,
          "Predicted Values": 66.2657682952731
         },
         {
          "Actual Values": 64.5,
          "Predicted Values": 63.00438685288277
         },
         {
          "Actual Values": 65.7,
          "Predicted Values": 64.20049864868463
         },
         {
          "Actual Values": 58.22,
          "Predicted Values": 64.35106240274538
         },
         {
          "Actual Values": 60.1,
          "Predicted Values": 65.03390582223712
         },
         {
          "Actual Values": 60.2,
          "Predicted Values": 66.07900911738109
         },
         {
          "Actual Values": 66.2,
          "Predicted Values": 65.59665299896685
         },
         {
          "Actual Values": 66.52,
          "Predicted Values": 64.93092647286817
         },
         {
          "Actual Values": 66.6,
          "Predicted Values": 61.56578063240742
         },
         {
          "Actual Values": 66.7,
          "Predicted Values": 65.23127304721018
         },
         {
          "Actual Values": 66.9,
          "Predicted Values": 66.23745843673655
         },
         {
          "Actual Values": 67,
          "Predicted Values": 65.82687114568162
         },
         {
          "Actual Values": 67.1,
          "Predicted Values": 68.50154847451734
         },
         {
          "Actual Values": 62.66,
          "Predicted Values": 60.86422543897552
         },
         {
          "Actual Values": 63.7,
          "Predicted Values": 57.38381387297734
         },
         {
          "Actual Values": 63.9,
          "Predicted Values": 54.30463597063867
         },
         {
          "Actual Values": 51.3,
          "Predicted Values": 61.72061186658932
         },
         {
          "Actual Values": 58.16,
          "Predicted Values": 52.312168432450044
         },
         {
          "Actual Values": 59.6,
          "Predicted Values": 58.81478831880753
         },
         {
          "Actual Values": 61.225,
          "Predicted Values": 61.95239302600034
         },
         {
          "Actual Values": 59.72,
          "Predicted Values": 56.03079803890495
         },
         {
          "Actual Values": 59.9,
          "Predicted Values": 58.505692842866345
         },
         {
          "Actual Values": 59.96,
          "Predicted Values": 57.14685413585688
         },
         {
          "Actual Values": 60.14,
          "Predicted Values": 62.151098277950496
         },
         {
          "Actual Values": 70.94,
          "Predicted Values": 68.43548166860825
         },
         {
          "Actual Values": 71.06,
          "Predicted Values": 67.18144949963622
         },
         {
          "Actual Values": 71.1,
          "Predicted Values": 66.57738175340478
         },
         {
          "Actual Values": 71.325,
          "Predicted Values": 69.67675065095696
         },
         {
          "Actual Values": 71.55,
          "Predicted Values": 67.89418916923364
         },
         {
          "Actual Values": 70.2,
          "Predicted Values": 70.31294707694153
         },
         {
          "Actual Values": 70.35,
          "Predicted Values": 70.65567376957799
         },
         {
          "Actual Values": 70.425,
          "Predicted Values": 70.4912930276792
         },
         {
          "Actual Values": 64.4,
          "Predicted Values": 64.09860007561693
         },
         {
          "Actual Values": 64.8,
          "Predicted Values": 63.05444061501091
         },
         {
          "Actual Values": 65.2,
          "Predicted Values": 64.59589304554021
         },
         {
          "Actual Values": 65.65,
          "Predicted Values": 65.68357926011458
         },
         {
          "Actual Values": 65.725,
          "Predicted Values": 67.39957122891644
         },
         {
          "Actual Values": 51.46,
          "Predicted Values": 61.70607501528271
         },
         {
          "Actual Values": 51.9,
          "Predicted Values": 56.81096000561333
         },
         {
          "Actual Values": 53.22,
          "Predicted Values": 59.20588932630016
         },
         {
          "Actual Values": 54.1,
          "Predicted Values": 58.883065605140295
         },
         {
          "Actual Values": 54.45,
          "Predicted Values": 58.65338019545387
         },
         {
          "Actual Values": 55.15,
          "Predicted Values": 60.35091891735836
         },
         {
          "Actual Values": 50.22,
          "Predicted Values": 55.81318117657701
         },
         {
          "Actual Values": 50.54,
          "Predicted Values": 53.547961599637766
         },
         {
          "Actual Values": 52.14,
          "Predicted Values": 59.23064895249914
         },
         {
          "Actual Values": 53.425,
          "Predicted Values": 61.03718231196578
         },
         {
          "Actual Values": 53.75,
          "Predicted Values": 58.94631195554444
         },
         {
          "Actual Values": 54.075,
          "Predicted Values": 59.10167226190191
         },
         {
          "Actual Values": 55.05,
          "Predicted Values": 57.45313506249791
         },
         {
          "Actual Values": 64.82,
          "Predicted Values": 61.053364672550096
         },
         {
          "Actual Values": 64.9,
          "Predicted Values": 58.105992021904086
         },
         {
          "Actual Values": 65.3,
          "Predicted Values": 61.62938841127041
         },
         {
          "Actual Values": 66.3,
          "Predicted Values": 62.11566929677202
         },
         {
          "Actual Values": 66.7,
          "Predicted Values": 63.43541428835451
         },
         {
          "Actual Values": 69.8,
          "Predicted Values": 68.45627849946645
         },
         {
          "Actual Values": 71.25,
          "Predicted Values": 70.22520560001269
         },
         {
          "Actual Values": 71.3,
          "Predicted Values": 70.55985483378412
         },
         {
          "Actual Values": 71.45,
          "Predicted Values": 71.82006345997267
         },
         {
          "Actual Values": 71.5,
          "Predicted Values": 70.80630581428346
         },
         {
          "Actual Values": 54.24,
          "Predicted Values": 50.57904436317763
         },
         {
          "Actual Values": 54.76,
          "Predicted Values": 50.82571048794264
         },
         {
          "Actual Values": 55.8,
          "Predicted Values": 54.839130264299776
         },
         {
          "Actual Values": 56.35,
          "Predicted Values": 60.29776286034081
         },
         {
          "Actual Values": 57.45,
          "Predicted Values": 57.39147027108256
         },
         {
          "Actual Values": 67.66,
          "Predicted Values": 62.563167640613464
         },
         {
          "Actual Values": 68.14,
          "Predicted Values": 64.63679204137192
         },
         {
          "Actual Values": 68.7,
          "Predicted Values": 65.27897187988924
         },
         {
          "Actual Values": 64.96,
          "Predicted Values": 60.76018575088074
         },
         {
          "Actual Values": 65.52,
          "Predicted Values": 66.16863388923124
         },
         {
          "Actual Values": 65.65,
          "Predicted Values": 66.57212434353279
         },
         {
          "Actual Values": 66.98,
          "Predicted Values": 61.31796409930835
         },
         {
          "Actual Values": 67.76,
          "Predicted Values": 61.78174757278008
         },
         {
          "Actual Values": 68.02,
          "Predicted Values": 62.399924203607625
         },
         {
          "Actual Values": 69.325,
          "Predicted Values": 65.72880501017791
         },
         {
          "Actual Values": 69.85,
          "Predicted Values": 64.20578737925524
         },
         {
          "Actual Values": 61.48,
          "Predicted Values": 63.90938619695291
         },
         {
          "Actual Values": 61.66,
          "Predicted Values": 63.37477986658923
         },
         {
          "Actual Values": 61.9,
          "Predicted Values": 66.72653684150934
         },
         {
          "Actual Values": 61.925,
          "Predicted Values": 64.14375733611885
         },
         {
          "Actual Values": 62.05,
          "Predicted Values": 63.48624141481197
         },
         {
          "Actual Values": 66.56,
          "Predicted Values": 65.3575766543363
         },
         {
          "Actual Values": 67.1,
          "Predicted Values": 66.81215503459475
         },
         {
          "Actual Values": 67.28,
          "Predicted Values": 65.87103989658142
         },
         {
          "Actual Values": 68,
          "Predicted Values": 66.13398159056261
         },
         {
          "Actual Values": 68.7,
          "Predicted Values": 66.67077438010153
         },
         {
          "Actual Values": 69.3,
          "Predicted Values": 63.577698683361575
         },
         {
          "Actual Values": 69.54,
          "Predicted Values": 65.06781983639672
         },
         {
          "Actual Values": 70.625,
          "Predicted Values": 67.99984907815369
         },
         {
          "Actual Values": 70.75,
          "Predicted Values": 68.25852712313596
         },
         {
          "Actual Values": 64.36,
          "Predicted Values": 70.09535793555409
         },
         {
          "Actual Values": 65.58,
          "Predicted Values": 60.680890273376846
         },
         {
          "Actual Values": 65.76,
          "Predicted Values": 60.797886879540606
         },
         {
          "Actual Values": 66.55,
          "Predicted Values": 62.75080685747254
         },
         {
          "Actual Values": 66.925,
          "Predicted Values": 65.31867126176152
         },
         {
          "Actual Values": 59.18,
          "Predicted Values": 63.84459773141903
         },
         {
          "Actual Values": 61.82,
          "Predicted Values": 63.739293802756734
         },
         {
          "Actual Values": 62.26,
          "Predicted Values": 66.0108149734153
         },
         {
          "Actual Values": 62.7,
          "Predicted Values": 64.16982117822654
         },
         {
          "Actual Values": 64.2,
          "Predicted Values": 65.22142908699512
         },
         {
          "Actual Values": 64.95,
          "Predicted Values": 62.7297556438805
         },
         {
          "Actual Values": 55.3,
          "Predicted Values": 53.799546762498444
         },
         {
          "Actual Values": 58.9,
          "Predicted Values": 63.04917354143521
         },
         {
          "Actual Values": 59.55,
          "Predicted Values": 58.54723814475562
         },
         {
          "Actual Values": 56.1,
          "Predicted Values": 58.73834098949809
         },
         {
          "Actual Values": 57.6,
          "Predicted Values": 60.12114863684724
         },
         {
          "Actual Values": 58.2,
          "Predicted Values": 57.81487029110103
         },
         {
          "Actual Values": 59.7,
          "Predicted Values": 54.829085962862024
         },
         {
          "Actual Values": 60.3,
          "Predicted Values": 53.97857494395633
         },
         {
          "Actual Values": 65.28,
          "Predicted Values": 63.45292189172078
         },
         {
          "Actual Values": 65.84,
          "Predicted Values": 62.07961098691006
         },
         {
          "Actual Values": 65.98,
          "Predicted Values": 63.292246503180785
         },
         {
          "Actual Values": 66.525,
          "Predicted Values": 65.97399257542898
         },
         {
          "Actual Values": 46.28,
          "Predicted Values": 55.03111946882221
         },
         {
          "Actual Values": 49.32,
          "Predicted Values": 65.63393041521626
         },
         {
          "Actual Values": 54.5,
          "Predicted Values": 57.62956163351396
         },
         {
          "Actual Values": 72.84,
          "Predicted Values": 64.85573219821252
         },
         {
          "Actual Values": 73.02,
          "Predicted Values": 65.88996542154948
         },
         {
          "Actual Values": 73.3,
          "Predicted Values": 69.94709178958946
         },
         {
          "Actual Values": 66.5,
          "Predicted Values": 65.96042796516154
         },
         {
          "Actual Values": 67.6,
          "Predicted Values": 66.01547216386884
         },
         {
          "Actual Values": 67.825,
          "Predicted Values": 65.7866058255387
         },
         {
          "Actual Values": 68.56,
          "Predicted Values": 70.41536394282463
         },
         {
          "Actual Values": 69.2,
          "Predicted Values": 68.30220362207555
         },
         {
          "Actual Values": 69.36,
          "Predicted Values": 68.64692730458539
         },
         {
          "Actual Values": 70,
          "Predicted Values": 66.50252290505442
         },
         {
          "Actual Values": 70.875,
          "Predicted Values": 71.46241763723246
         },
         {
          "Actual Values": 71.225,
          "Predicted Values": 68.65030626984709
         },
         {
          "Actual Values": 46.9,
          "Predicted Values": 60.63889734421165
         },
         {
          "Actual Values": 49.6,
          "Predicted Values": 64.72897638173414
         },
         {
          "Actual Values": 53.2,
          "Predicted Values": 65.13024938606802
         },
         {
          "Actual Values": 55.675,
          "Predicted Values": 63.53004545621539
         },
         {
          "Actual Values": 70.24,
          "Predicted Values": 62.357474348894776
         },
         {
          "Actual Values": 70.9,
          "Predicted Values": 60.62377174000562
         },
         {
          "Actual Values": 71.78,
          "Predicted Values": 59.752868616973544
         },
         {
          "Actual Values": 72,
          "Predicted Values": 60.12862599759234
         },
         {
          "Actual Values": 72.275,
          "Predicted Values": 60.72761386113812
         },
         {
          "Actual Values": 73.375,
          "Predicted Values": 64.16570932873185
         },
         {
          "Actual Values": 73.65,
          "Predicted Values": 63.25763659946362
         },
         {
          "Actual Values": 70.64,
          "Predicted Values": 68.42914881380865
         },
         {
          "Actual Values": 71,
          "Predicted Values": 69.57064211063016
         },
         {
          "Actual Values": 71.36,
          "Predicted Values": 68.50225280248607
         },
         {
          "Actual Values": 71.6,
          "Predicted Values": 68.04544900511445
         },
         {
          "Actual Values": 71.85,
          "Predicted Values": 67.36426624261871
         },
         {
          "Actual Values": 72.225,
          "Predicted Values": 69.4030133306542
         },
         {
          "Actual Values": 62.76,
          "Predicted Values": 62.40118422478101
         },
         {
          "Actual Values": 65.16,
          "Predicted Values": 60.804793598843396
         },
         {
          "Actual Values": 65.64,
          "Predicted Values": 60.01019915240765
         },
         {
          "Actual Values": 66.6,
          "Predicted Values": 62.59357388364432
         },
         {
          "Actual Values": 67.2,
          "Predicted Values": 62.86412121254035
         },
         {
          "Actual Values": 57.7,
          "Predicted Values": 63.922586934560485
         },
         {
          "Actual Values": 58.18,
          "Predicted Values": 61.332931159592114
         },
         {
          "Actual Values": 58.66,
          "Predicted Values": 62.0670631161263
         },
         {
          "Actual Values": 71.12,
          "Predicted Values": 68.26657737221129
         },
         {
          "Actual Values": 71.16,
          "Predicted Values": 67.19037175862286
         },
         {
          "Actual Values": 71.525,
          "Predicted Values": 69.58642744990274
         },
         {
          "Actual Values": 71.65,
          "Predicted Values": 69.26219854859677
         },
         {
          "Actual Values": 71.775,
          "Predicted Values": 69.99505984520444
         },
         {
          "Actual Values": 71.9,
          "Predicted Values": 70.66751141543634
         },
         {
          "Actual Values": 71.16,
          "Predicted Values": 69.43416709806377
         },
         {
          "Actual Values": 71.9,
          "Predicted Values": 70.19915305273354
         },
         {
          "Actual Values": 73.1,
          "Predicted Values": 67.92846664572686
         },
         {
          "Actual Values": 63.34,
          "Predicted Values": 57.04718296493171
         },
         {
          "Actual Values": 56.3,
          "Predicted Values": 56.71433623816522
         },
         {
          "Actual Values": 69.14,
          "Predicted Values": 60.820888901721716
         },
         {
          "Actual Values": 60.5,
          "Predicted Values": 59.614031557639414
         },
         {
          "Actual Values": 60.8,
          "Predicted Values": 57.893641117619815
         },
         {
          "Actual Values": 61.55,
          "Predicted Values": 64.9199569613222
         },
         {
          "Actual Values": 61.7,
          "Predicted Values": 58.751691690371416
         },
         {
          "Actual Values": 50.76,
          "Predicted Values": 61.76417355010245
         },
         {
          "Actual Values": 52.74,
          "Predicted Values": 57.95898588936544
         },
         {
          "Actual Values": 55.38,
          "Predicted Values": 59.25394066779075
         },
         {
          "Actual Values": 56.7,
          "Predicted Values": 59.58319239842931
         },
         {
          "Actual Values": 57.6,
          "Predicted Values": 59.57106601712973
         },
         {
          "Actual Values": 58.5,
          "Predicted Values": 59.556762930608876
         },
         {
          "Actual Values": 66.38,
          "Predicted Values": 61.789023787503325
         },
         {
          "Actual Values": 66.56,
          "Predicted Values": 61.73044917251304
         },
         {
          "Actual Values": 66.92,
          "Predicted Values": 60.811516659196904
         },
         {
          "Actual Values": 67.46,
          "Predicted Values": 61.740460586453786
         },
         {
          "Actual Values": 68.075,
          "Predicted Values": 63.660103030692284
         },
         {
          "Actual Values": 68.45,
          "Predicted Values": 63.81432647406549
         },
         {
          "Actual Values": 50.24,
          "Predicted Values": 49.59796451196869
         },
         {
          "Actual Values": 51.12,
          "Predicted Values": 42.778598531850015
         },
         {
          "Actual Values": 54.2,
          "Predicted Values": 54.586895925286804
         },
         {
          "Actual Values": 54.7,
          "Predicted Values": 55.53010624837544
         },
         {
          "Actual Values": 56.2,
          "Predicted Values": 55.31695991961015
         },
         {
          "Actual Values": 57.7,
          "Predicted Values": 57.34906702534077
         },
         {
          "Actual Values": 64.44,
          "Predicted Values": 64.09791424523901
         },
         {
          "Actual Values": 66.3,
          "Predicted Values": 64.11663386562786
         },
         {
          "Actual Values": 66.62,
          "Predicted Values": 60.258959444496604
         },
         {
          "Actual Values": 66.85,
          "Predicted Values": 62.10643133981088
         },
         {
          "Actual Values": 67,
          "Predicted Values": 60.207595519312264
         },
         {
          "Actual Values": 66.9,
          "Predicted Values": 62.820366606482395
         },
         {
          "Actual Values": 68.05,
          "Predicted Values": 68.86505811361938
         },
         {
          "Actual Values": 68.75,
          "Predicted Values": 63.54822147022668
         },
         {
          "Actual Values": 50.42,
          "Predicted Values": 60.99496169187693
         },
         {
          "Actual Values": 51.26,
          "Predicted Values": 65.10555118913521
         },
         {
          "Actual Values": 52.1,
          "Predicted Values": 63.406110605524425
         },
         {
          "Actual Values": 52.94,
          "Predicted Values": 64.86180062994606
         },
         {
          "Actual Values": 53.78,
          "Predicted Values": 63.56464292204008
         },
         {
          "Actual Values": 54.62,
          "Predicted Values": 66.35820506172618
         },
         {
          "Actual Values": 57.25,
          "Predicted Values": 62.014525842125856
         },
         {
          "Actual Values": 57.725,
          "Predicted Values": 61.10860598964591
         },
         {
          "Actual Values": 59.15,
          "Predicted Values": 62.40420449409167
         },
         {
          "Actual Values": 61.24,
          "Predicted Values": 60.36003321538617
         },
         {
          "Actual Values": 61.88,
          "Predicted Values": 60.80620442585667
         },
         {
          "Actual Values": 62.52,
          "Predicted Values": 63.053731548124446
         },
         {
          "Actual Values": 63.48,
          "Predicted Values": 62.475979835152685
         },
         {
          "Actual Values": 64.175,
          "Predicted Values": 64.50007927508565
         },
         {
          "Actual Values": 64.3,
          "Predicted Values": 64.37580230119634
         },
         {
          "Actual Values": 64.675,
          "Predicted Values": 66.04176153199498
         },
         {
          "Actual Values": 65.04,
          "Predicted Values": 69.60634371593193
         },
         {
          "Actual Values": 69.46,
          "Predicted Values": 68.10332475864593
         },
         {
          "Actual Values": 69.52,
          "Predicted Values": 67.63638737928657
         },
         {
          "Actual Values": 69.64,
          "Predicted Values": 67.24303130778279
         },
         {
          "Actual Values": 70.1,
          "Predicted Values": 68.80618574390905
         },
         {
          "Actual Values": 66.74,
          "Predicted Values": 67.39362823119485
         },
         {
          "Actual Values": 66.62,
          "Predicted Values": 66.16680259181263
         },
         {
          "Actual Values": 66.35,
          "Predicted Values": 67.1327762173558
         },
         {
          "Actual Values": 66.225,
          "Predicted Values": 66.6922367580938
         },
         {
          "Actual Values": 65.975,
          "Predicted Values": 69.01545562304894
         },
         {
          "Actual Values": 67.26,
          "Predicted Values": 65.683068738695
         },
         {
          "Actual Values": 67.42,
          "Predicted Values": 68.54597155913305
         },
         {
          "Actual Values": 67.5,
          "Predicted Values": 68.33885833181252
         },
         {
          "Actual Values": 67.5,
          "Predicted Values": 68.92834034455508
         },
         {
          "Actual Values": 67.5,
          "Predicted Values": 67.9300720291352
         },
         {
          "Actual Values": 63.02,
          "Predicted Values": 70.31762646160979
         },
         {
          "Actual Values": 64.4,
          "Predicted Values": 67.70724578602797
         },
         {
          "Actual Values": 64.7,
          "Predicted Values": 67.77439107880345
         },
         {
          "Actual Values": 65.46,
          "Predicted Values": 66.60213224364925
         },
         {
          "Actual Values": 65.38,
          "Predicted Values": 65.52868127053708
         },
         {
          "Actual Values": 65.3,
          "Predicted Values": 64.66533353365402
         },
         {
          "Actual Values": 65.26,
          "Predicted Values": 66.15996333285227
         },
         {
          "Actual Values": 65.1,
          "Predicted Values": 62.6796095106839
         },
         {
          "Actual Values": 64.575,
          "Predicted Values": 65.2349897774024
         },
         {
          "Actual Values": 65.4,
          "Predicted Values": 62.457214412378285
         },
         {
          "Actual Values": 58.64,
          "Predicted Values": 62.65849421713351
         },
         {
          "Actual Values": 58.52,
          "Predicted Values": 59.99216981216894
         },
         {
          "Actual Values": 58.44,
          "Predicted Values": 56.74056812688002
         },
         {
          "Actual Values": 57.725,
          "Predicted Values": 63.39558358080098
         },
         {
          "Actual Values": 46.76,
          "Predicted Values": 61.373091432172
         },
         {
          "Actual Values": 48.74,
          "Predicted Values": 57.96256823023641
         },
         {
          "Actual Values": 50.72,
          "Predicted Values": 61.37638163996707
         },
         {
          "Actual Values": 51.38,
          "Predicted Values": 62.245864516247394
         },
         {
          "Actual Values": 52.7,
          "Predicted Values": 60.16692563175894
         },
         {
          "Actual Values": 53.55,
          "Predicted Values": 62.76376342504495
         },
         {
          "Actual Values": 53.975,
          "Predicted Values": 60.7640896052881
         },
         {
          "Actual Values": 47.6,
          "Predicted Values": 62.165836868213624
         },
         {
          "Actual Values": 51.675,
          "Predicted Values": 60.697738591689266
         },
         {
          "Actual Values": 52.15,
          "Predicted Values": 60.07946598554887
         },
         {
          "Actual Values": 53.575,
          "Predicted Values": 59.766176082470174
         },
         {
          "Actual Values": 54.05,
          "Predicted Values": 57.930481294447844
         },
         {
          "Actual Values": 54.525,
          "Predicted Values": 55.99693964936947
         }
        ]
       },
       "encoding": {
        "x": {
         "field": "Actual Values",
         "type": "quantitative"
        },
        "y": {
         "field": "Predicted Values",
         "type": "quantitative"
        }
       },
       "mark": {
        "type": "circle"
       },
       "title": "Actual vs Predicted Values (Original Data)"
      },
      "image/png": "[encoded data removed]",
      "text/plain": [
       "<VegaLite 5 object>\n",
       "\n",
       "If you see this message, it means the renderer has not been properly enabled\n",
       "for the frontend that you are using. For more information, see\n",
       "https://altair-viz.github.io/user_guide/display_frontends.html#troubleshooting\n"
      ]
     },
     "execution_count": 303,
     "metadata": {},
     "output_type": "execute_result"
    }
   ],
   "source": [
    "# Prediction results original data\n",
    "x_test_main = sm.tools.add_constant(test_main.iloc[:, [0, 2, 3, 4, 5, 6]])\n",
    "y_test_main = test_main.loc[:, 'HLE at birth']\n",
    "\n",
    "pred_main = result_main.predict(x_test_main)\n",
    "\n",
    "pred_main_df = pd.DataFrame({'Actual Values': y_test_main, 'Predicted Values': pred_main})\n",
    "\n",
    "# Plot\n",
    "plot_main = alt.Chart(pred_main_df).mark_circle().encode(\n",
    "    x='Actual Values',\n",
    "    y='Predicted Values'\n",
    ").properties(\n",
    "    title='Actual vs Predicted Values (Original Data)'\n",
    ")\n",
    "plot_main"
   ]
  },
  {
   "cell_type": "code",
   "execution_count": 304,
   "id": "5f759498-1f19-40a8-9315-16f41ebfa9fb",
   "metadata": {},
   "outputs": [
    {
     "name": "stdout",
     "output_type": "stream",
     "text": [
      "Sum of Squared Residuals: 19875.700626212267\n",
      "Sum of Squared Residuals: 14917.324719504468\n"
     ]
    }
   ],
   "source": [
    "# Sum of Squared Residuals for PC Data\n",
    "ssr_pc = pred_pc_df['Actual Values'] - pred_pc_df['Predicted Values']\n",
    "print(f'Sum of Squared Residuals: {(ssr_pc ** 2).sum()}')\n",
    "\n",
    "# Sum of Squared Residuals for Original Data\n",
    "ssr_main = pred_main_df['Actual Values'] - pred_main_df['Predicted Values']\n",
    "print(f'Sum of Squared Residuals: {(ssr_main ** 2).sum()}')"
   ]
  },
  {
   "cell_type": "markdown",
   "id": "c77f5858-0401-48e4-ab64-f08b0f4db6af",
   "metadata": {},
   "source": [
    "## Result\n",
    "As expected, the poll index used to identify the happiness level of a country does not have a strong relationship with the healthy life expectancy of a person at birth. As previously mentioned, the infrastrucutre and culture that mostly affect the healthy life expectancy at birth levels is much harder to change than a person's opinion on the country, so a strong relationship should not exist between the two variables. Interestingly, in the most accurate model, the original data model, parts of what would be expected to increase heatlhy life expectancy actually decreased it. When asked questions for the poll, people are likely comparing their situation to past situations in the same country, so when there are countries that see improvements in citizen satisfaction and happiness, even when not developed, they may have a better positive affect and generosity variable than developed countries. The opposite can be likely said about the negative affect variable. Understandably, the social support, freedom of choice, and corruption moved the model in what was expected, with social support being the biggest factor. Although the model lacks accuracy, as what was expected, information can be taken from the models, leading to the conclusion that there is no significant evidence that happiness can lead to a long healthy life expectancy, but the vaiables such as freedom and social support - which are factors used in the World Happiness Report to define happinees - do support the idea of a healthy long life."
   ]
  }
 ],
 "metadata": {
  "kernelspec": {
   "display_name": "Python 3 (ipykernel)",
   "language": "python",
   "name": "python3"
  },
  "language_info": {
   "codemirror_mode": {
    "name": "ipython",
    "version": 3
   },
   "file_extension": ".py",
   "mimetype": "text/x-python",
   "name": "python",
   "nbconvert_exporter": "python",
   "pygments_lexer": "ipython3",
   "version": "3.11.6"
  }
 },
 "nbformat": 4,
 "nbformat_minor": 5
}
